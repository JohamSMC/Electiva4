{
  "nbformat": 4,
  "nbformat_minor": 0,
  "metadata": {
    "colab": {
      "name": "10-SVM&ValidacionCruzada-DataSet-CarEvaluation.ipynb",
      "provenance": [],
      "collapsed_sections": [
        "Anxja80hhimi",
        "yB6WOu1ek3wO",
        "Yu9lsekbn_NZ"
      ],
      "authorship_tag": "ABX9TyOHY7Xy7ijrvtyFGR/XQOiZ"
    },
    "kernelspec": {
      "name": "python3",
      "display_name": "Python 3"
    }
  },
  "cells": [
    {
      "cell_type": "code",
      "metadata": {
        "id": "GVFmx98xapFG",
        "colab_type": "code",
        "colab": {}
      },
      "source": [
        "# Importarcion librerias\n",
        "import numpy as np\n",
        "import pandas as pd\n",
        "\n",
        "from sklearn.model_selection import train_test_split\n",
        "from sklearn import metrics\n",
        "from sklearn.svm import SVC"
      ],
      "execution_count": 3,
      "outputs": []
    },
    {
      "cell_type": "code",
      "metadata": {
        "id": "tgZryuK4f_FV",
        "colab_type": "code",
        "colab": {
          "base_uri": "https://localhost:8080/",
          "height": 419
        },
        "outputId": "94d57f90-2e12-49e4-8e7d-a41e6a148379"
      },
      "source": [
        "# Cargar dataSet CarEvaluation\n",
        "dataSet = pd.read_csv('https://raw.githubusercontent.com/JohamSMC/electiva4/master/dataSets/dataSet-carEvaluation.txt', sep='\\t', na_values=['?'])\n",
        "dataSet"
      ],
      "execution_count": 4,
      "outputs": [
        {
          "output_type": "execute_result",
          "data": {
            "text/html": [
              "<div>\n",
              "<style scoped>\n",
              "    .dataframe tbody tr th:only-of-type {\n",
              "        vertical-align: middle;\n",
              "    }\n",
              "\n",
              "    .dataframe tbody tr th {\n",
              "        vertical-align: top;\n",
              "    }\n",
              "\n",
              "    .dataframe thead th {\n",
              "        text-align: right;\n",
              "    }\n",
              "</style>\n",
              "<table border=\"1\" class=\"dataframe\">\n",
              "  <thead>\n",
              "    <tr style=\"text-align: right;\">\n",
              "      <th></th>\n",
              "      <th>buying</th>\n",
              "      <th>maint</th>\n",
              "      <th>doors</th>\n",
              "      <th>persons</th>\n",
              "      <th>lug_boot</th>\n",
              "      <th>safety</th>\n",
              "      <th>Class</th>\n",
              "    </tr>\n",
              "  </thead>\n",
              "  <tbody>\n",
              "    <tr>\n",
              "      <th>0</th>\n",
              "      <td>vhigh</td>\n",
              "      <td>vhigh</td>\n",
              "      <td>2</td>\n",
              "      <td>2</td>\n",
              "      <td>small</td>\n",
              "      <td>low</td>\n",
              "      <td>unacc</td>\n",
              "    </tr>\n",
              "    <tr>\n",
              "      <th>1</th>\n",
              "      <td>vhigh</td>\n",
              "      <td>vhigh</td>\n",
              "      <td>2</td>\n",
              "      <td>2</td>\n",
              "      <td>small</td>\n",
              "      <td>med</td>\n",
              "      <td>unacc</td>\n",
              "    </tr>\n",
              "    <tr>\n",
              "      <th>2</th>\n",
              "      <td>vhigh</td>\n",
              "      <td>vhigh</td>\n",
              "      <td>2</td>\n",
              "      <td>2</td>\n",
              "      <td>small</td>\n",
              "      <td>high</td>\n",
              "      <td>unacc</td>\n",
              "    </tr>\n",
              "    <tr>\n",
              "      <th>3</th>\n",
              "      <td>vhigh</td>\n",
              "      <td>vhigh</td>\n",
              "      <td>2</td>\n",
              "      <td>2</td>\n",
              "      <td>med</td>\n",
              "      <td>low</td>\n",
              "      <td>unacc</td>\n",
              "    </tr>\n",
              "    <tr>\n",
              "      <th>4</th>\n",
              "      <td>vhigh</td>\n",
              "      <td>vhigh</td>\n",
              "      <td>2</td>\n",
              "      <td>2</td>\n",
              "      <td>med</td>\n",
              "      <td>med</td>\n",
              "      <td>unacc</td>\n",
              "    </tr>\n",
              "    <tr>\n",
              "      <th>...</th>\n",
              "      <td>...</td>\n",
              "      <td>...</td>\n",
              "      <td>...</td>\n",
              "      <td>...</td>\n",
              "      <td>...</td>\n",
              "      <td>...</td>\n",
              "      <td>...</td>\n",
              "    </tr>\n",
              "    <tr>\n",
              "      <th>1723</th>\n",
              "      <td>low</td>\n",
              "      <td>low</td>\n",
              "      <td>5more</td>\n",
              "      <td>more</td>\n",
              "      <td>med</td>\n",
              "      <td>med</td>\n",
              "      <td>good</td>\n",
              "    </tr>\n",
              "    <tr>\n",
              "      <th>1724</th>\n",
              "      <td>low</td>\n",
              "      <td>low</td>\n",
              "      <td>5more</td>\n",
              "      <td>more</td>\n",
              "      <td>med</td>\n",
              "      <td>high</td>\n",
              "      <td>vgood</td>\n",
              "    </tr>\n",
              "    <tr>\n",
              "      <th>1725</th>\n",
              "      <td>low</td>\n",
              "      <td>low</td>\n",
              "      <td>5more</td>\n",
              "      <td>more</td>\n",
              "      <td>big</td>\n",
              "      <td>low</td>\n",
              "      <td>unacc</td>\n",
              "    </tr>\n",
              "    <tr>\n",
              "      <th>1726</th>\n",
              "      <td>low</td>\n",
              "      <td>low</td>\n",
              "      <td>5more</td>\n",
              "      <td>more</td>\n",
              "      <td>big</td>\n",
              "      <td>med</td>\n",
              "      <td>good</td>\n",
              "    </tr>\n",
              "    <tr>\n",
              "      <th>1727</th>\n",
              "      <td>low</td>\n",
              "      <td>low</td>\n",
              "      <td>5more</td>\n",
              "      <td>more</td>\n",
              "      <td>big</td>\n",
              "      <td>high</td>\n",
              "      <td>vgood</td>\n",
              "    </tr>\n",
              "  </tbody>\n",
              "</table>\n",
              "<p>1728 rows × 7 columns</p>\n",
              "</div>"
            ],
            "text/plain": [
              "     buying  maint  doors persons lug_boot safety  Class\n",
              "0     vhigh  vhigh      2       2    small    low  unacc\n",
              "1     vhigh  vhigh      2       2    small    med  unacc\n",
              "2     vhigh  vhigh      2       2    small   high  unacc\n",
              "3     vhigh  vhigh      2       2      med    low  unacc\n",
              "4     vhigh  vhigh      2       2      med    med  unacc\n",
              "...     ...    ...    ...     ...      ...    ...    ...\n",
              "1723    low    low  5more    more      med    med   good\n",
              "1724    low    low  5more    more      med   high  vgood\n",
              "1725    low    low  5more    more      big    low  unacc\n",
              "1726    low    low  5more    more      big    med   good\n",
              "1727    low    low  5more    more      big   high  vgood\n",
              "\n",
              "[1728 rows x 7 columns]"
            ]
          },
          "metadata": {
            "tags": []
          },
          "execution_count": 4
        }
      ]
    },
    {
      "cell_type": "code",
      "metadata": {
        "id": "57EL8cjSgg6V",
        "colab_type": "code",
        "colab": {
          "base_uri": "https://localhost:8080/",
          "height": 255
        },
        "outputId": "7091c9e2-5177-4a80-c1fa-7c89693ad635"
      },
      "source": [
        "# Información DataSet\n",
        "dataSet.info()"
      ],
      "execution_count": 5,
      "outputs": [
        {
          "output_type": "stream",
          "text": [
            "<class 'pandas.core.frame.DataFrame'>\n",
            "RangeIndex: 1728 entries, 0 to 1727\n",
            "Data columns (total 7 columns):\n",
            " #   Column    Non-Null Count  Dtype \n",
            "---  ------    --------------  ----- \n",
            " 0   buying    1728 non-null   object\n",
            " 1   maint     1728 non-null   object\n",
            " 2   doors     1728 non-null   object\n",
            " 3   persons   1728 non-null   object\n",
            " 4   lug_boot  1728 non-null   object\n",
            " 5   safety    1728 non-null   object\n",
            " 6   Class     1728 non-null   object\n",
            "dtypes: object(7)\n",
            "memory usage: 94.6+ KB\n"
          ],
          "name": "stdout"
        }
      ]
    },
    {
      "cell_type": "markdown",
      "metadata": {
        "id": "Anxja80hhimi",
        "colab_type": "text"
      },
      "source": [
        "## ***Limpieza de datos***"
      ]
    },
    {
      "cell_type": "code",
      "metadata": {
        "id": "wYdnrXDCjNzj",
        "colab_type": "code",
        "colab": {
          "base_uri": "https://localhost:8080/",
          "height": 204
        },
        "outputId": "025f0911-0642-4f0d-8b06-da93b6bd27dd"
      },
      "source": [
        "print(\"Numero Filas y Columnas dataSet = \",dataSet.shape)\n",
        "# Valores nulos en dataSet application\n",
        "print(\"Valores nulos en dataSet credit:\\n\")\n",
        "print(dataSet.isnull().sum())"
      ],
      "execution_count": 6,
      "outputs": [
        {
          "output_type": "stream",
          "text": [
            "Numero Filas y Columnas dataSet =  (1728, 7)\n",
            "Valores nulos en dataSet credit:\n",
            "\n",
            "buying      0\n",
            "maint       0\n",
            "doors       0\n",
            "persons     0\n",
            "lug_boot    0\n",
            "safety      0\n",
            "Class       0\n",
            "dtype: int64\n"
          ],
          "name": "stdout"
        }
      ]
    },
    {
      "cell_type": "code",
      "metadata": {
        "id": "E0wEoMCyhxGk",
        "colab_type": "code",
        "colab": {
          "base_uri": "https://localhost:8080/",
          "height": 102
        },
        "outputId": "692142e2-7674-4654-e167-56968e53f6b0"
      },
      "source": [
        "# Valores del atributo doors\n",
        "dataSet.doors.value_counts()"
      ],
      "execution_count": 7,
      "outputs": [
        {
          "output_type": "execute_result",
          "data": {
            "text/plain": [
              "4        432\n",
              "3        432\n",
              "5more    432\n",
              "2        432\n",
              "Name: doors, dtype: int64"
            ]
          },
          "metadata": {
            "tags": []
          },
          "execution_count": 7
        }
      ]
    },
    {
      "cell_type": "code",
      "metadata": {
        "id": "OEop_DyNhqS9",
        "colab_type": "code",
        "colab": {
          "base_uri": "https://localhost:8080/",
          "height": 102
        },
        "outputId": "2ae1998b-826b-4d37-a10b-9b947f453997"
      },
      "source": [
        "# Cambio tipo de variablde DOORS a string\n",
        "dataSet.doors = dataSet.doors.astype(str)\n",
        "# Cambia todo los \"doors\" de valor \"5more\" a 5\n",
        "dataSet.doors = dataSet.doors.replace({'5more':5})\n",
        "# Valores del atributo doors\n",
        "dataSet.doors.value_counts()"
      ],
      "execution_count": 8,
      "outputs": [
        {
          "output_type": "execute_result",
          "data": {
            "text/plain": [
              "4    432\n",
              "3    432\n",
              "2    432\n",
              "5    432\n",
              "Name: doors, dtype: int64"
            ]
          },
          "metadata": {
            "tags": []
          },
          "execution_count": 8
        }
      ]
    },
    {
      "cell_type": "code",
      "metadata": {
        "id": "8EgGM5rGhdEs",
        "colab_type": "code",
        "colab": {
          "base_uri": "https://localhost:8080/",
          "height": 85
        },
        "outputId": "9efc7264-f110-4dd8-8c31-4a309057fef1"
      },
      "source": [
        "# Valores del atributo persons\n",
        "dataSet.persons.value_counts()"
      ],
      "execution_count": 9,
      "outputs": [
        {
          "output_type": "execute_result",
          "data": {
            "text/plain": [
              "4       576\n",
              "more    576\n",
              "2       576\n",
              "Name: persons, dtype: int64"
            ]
          },
          "metadata": {
            "tags": []
          },
          "execution_count": 9
        }
      ]
    },
    {
      "cell_type": "code",
      "metadata": {
        "id": "1sXVgUEsiGZ4",
        "colab_type": "code",
        "colab": {
          "base_uri": "https://localhost:8080/",
          "height": 85
        },
        "outputId": "caee62d3-7b93-4773-f5da-db6592dd3437"
      },
      "source": [
        "# Cambio tipo de variablde PERSONS a string\n",
        "dataSet.persons = dataSet.persons.astype(str)\n",
        "# Cambia todo los \"doors\" de valor \"more\" a 5\n",
        "dataSet.persons = dataSet.persons.replace({'more':5})\n",
        "# Valores del atributo persons\n",
        "dataSet.persons.value_counts()"
      ],
      "execution_count": 10,
      "outputs": [
        {
          "output_type": "execute_result",
          "data": {
            "text/plain": [
              "4    576\n",
              "2    576\n",
              "5    576\n",
              "Name: persons, dtype: int64"
            ]
          },
          "metadata": {
            "tags": []
          },
          "execution_count": 10
        }
      ]
    },
    {
      "cell_type": "markdown",
      "metadata": {
        "id": "yB6WOu1ek3wO",
        "colab_type": "text"
      },
      "source": [
        "### ***Cambiar atributos de Cualitativos Nominales A Cuantitativos Discretos***"
      ]
    },
    {
      "cell_type": "code",
      "metadata": {
        "id": "hLlLbojDk7pI",
        "colab_type": "code",
        "colab": {
          "base_uri": "https://localhost:8080/",
          "height": 102
        },
        "outputId": "077a5435-ee55-4fe4-dec7-256f4368443b"
      },
      "source": [
        "# Valores de buying\n",
        "dataSet.buying.value_counts()"
      ],
      "execution_count": 11,
      "outputs": [
        {
          "output_type": "execute_result",
          "data": {
            "text/plain": [
              "low      432\n",
              "med      432\n",
              "high     432\n",
              "vhigh    432\n",
              "Name: buying, dtype: int64"
            ]
          },
          "metadata": {
            "tags": []
          },
          "execution_count": 11
        }
      ]
    },
    {
      "cell_type": "code",
      "metadata": {
        "id": "l_8pDn70lMd6",
        "colab_type": "code",
        "colab": {
          "base_uri": "https://localhost:8080/",
          "height": 102
        },
        "outputId": "fd805993-6010-44b4-95b0-58cf81a9c18a"
      },
      "source": [
        "# Reemplazar los valores\n",
        "dictionary_replacement = {'low':1,\n",
        "                          'med':2,\n",
        "                          'high':3,\n",
        "                          'vhigh':4}\n",
        "dataSet.buying = dataSet.buying.map(dictionary_replacement)\n",
        "# Valores de buying\n",
        "dataSet.buying.value_counts()"
      ],
      "execution_count": 12,
      "outputs": [
        {
          "output_type": "execute_result",
          "data": {
            "text/plain": [
              "4    432\n",
              "3    432\n",
              "2    432\n",
              "1    432\n",
              "Name: buying, dtype: int64"
            ]
          },
          "metadata": {
            "tags": []
          },
          "execution_count": 12
        }
      ]
    },
    {
      "cell_type": "code",
      "metadata": {
        "id": "sOuZ86OMmN-l",
        "colab_type": "code",
        "colab": {
          "base_uri": "https://localhost:8080/",
          "height": 102
        },
        "outputId": "1ae39537-65f3-45cb-a7cd-5d122dd8d398"
      },
      "source": [
        "# Valores de maint\n",
        "dataSet.maint.value_counts()"
      ],
      "execution_count": 13,
      "outputs": [
        {
          "output_type": "execute_result",
          "data": {
            "text/plain": [
              "low      432\n",
              "med      432\n",
              "high     432\n",
              "vhigh    432\n",
              "Name: maint, dtype: int64"
            ]
          },
          "metadata": {
            "tags": []
          },
          "execution_count": 13
        }
      ]
    },
    {
      "cell_type": "code",
      "metadata": {
        "id": "Nrk7jmTwmWmr",
        "colab_type": "code",
        "colab": {
          "base_uri": "https://localhost:8080/",
          "height": 102
        },
        "outputId": "bfac8793-5a0d-4c85-bcf7-4ccebe2e1b70"
      },
      "source": [
        "# Reemplazar los valores\n",
        "dictionary_replacement = {'low':1,\n",
        "                          'med':2,\n",
        "                          'high':3,\n",
        "                          'vhigh':4}\n",
        "dataSet.maint = dataSet.maint.map(dictionary_replacement)\n",
        "# Valores de buying\n",
        "dataSet.maint.value_counts()"
      ],
      "execution_count": 14,
      "outputs": [
        {
          "output_type": "execute_result",
          "data": {
            "text/plain": [
              "4    432\n",
              "3    432\n",
              "2    432\n",
              "1    432\n",
              "Name: maint, dtype: int64"
            ]
          },
          "metadata": {
            "tags": []
          },
          "execution_count": 14
        }
      ]
    },
    {
      "cell_type": "code",
      "metadata": {
        "id": "EePR8aYZmjF7",
        "colab_type": "code",
        "colab": {
          "base_uri": "https://localhost:8080/",
          "height": 85
        },
        "outputId": "6b1b12bf-e9d5-42d7-d05c-83b5ee2ca034"
      },
      "source": [
        "# Valores de lug_boot\n",
        "dataSet.lug_boot.value_counts()"
      ],
      "execution_count": 15,
      "outputs": [
        {
          "output_type": "execute_result",
          "data": {
            "text/plain": [
              "med      576\n",
              "big      576\n",
              "small    576\n",
              "Name: lug_boot, dtype: int64"
            ]
          },
          "metadata": {
            "tags": []
          },
          "execution_count": 15
        }
      ]
    },
    {
      "cell_type": "code",
      "metadata": {
        "id": "qfl7sgK0moYt",
        "colab_type": "code",
        "colab": {
          "base_uri": "https://localhost:8080/",
          "height": 85
        },
        "outputId": "17752246-6e20-49f3-d53b-2cecd77f3379"
      },
      "source": [
        "# Reemplazar los valores\n",
        "dictionary_replacement = {'small':1,\n",
        "                          'med':2,\n",
        "                          'big':3}\n",
        "dataSet.lug_boot = dataSet.lug_boot.map(dictionary_replacement)\n",
        "# Valores de buying\n",
        "dataSet.lug_boot.value_counts()"
      ],
      "execution_count": 16,
      "outputs": [
        {
          "output_type": "execute_result",
          "data": {
            "text/plain": [
              "3    576\n",
              "2    576\n",
              "1    576\n",
              "Name: lug_boot, dtype: int64"
            ]
          },
          "metadata": {
            "tags": []
          },
          "execution_count": 16
        }
      ]
    },
    {
      "cell_type": "code",
      "metadata": {
        "id": "hyiucsidmzoL",
        "colab_type": "code",
        "colab": {
          "base_uri": "https://localhost:8080/",
          "height": 85
        },
        "outputId": "ef8a4b3e-b2e4-42b9-ed21-ae53156d90d7"
      },
      "source": [
        "# Valores de safety\n",
        "dataSet.safety.value_counts()"
      ],
      "execution_count": 17,
      "outputs": [
        {
          "output_type": "execute_result",
          "data": {
            "text/plain": [
              "low     576\n",
              "med     576\n",
              "high    576\n",
              "Name: safety, dtype: int64"
            ]
          },
          "metadata": {
            "tags": []
          },
          "execution_count": 17
        }
      ]
    },
    {
      "cell_type": "code",
      "metadata": {
        "id": "Y9jYVyV4m83q",
        "colab_type": "code",
        "colab": {
          "base_uri": "https://localhost:8080/",
          "height": 85
        },
        "outputId": "db2a57d7-d8f9-4bc3-e3bb-b6dbdd495f02"
      },
      "source": [
        "# Reemplazar los valores\n",
        "dictionary_replacement = {'low':1,\n",
        "                          'med':2,\n",
        "                          'high':3}\n",
        "dataSet.safety = dataSet.safety.map(dictionary_replacement)\n",
        "# Valores de buying\n",
        "dataSet.safety.value_counts()"
      ],
      "execution_count": 18,
      "outputs": [
        {
          "output_type": "execute_result",
          "data": {
            "text/plain": [
              "3    576\n",
              "2    576\n",
              "1    576\n",
              "Name: safety, dtype: int64"
            ]
          },
          "metadata": {
            "tags": []
          },
          "execution_count": 18
        }
      ]
    },
    {
      "cell_type": "code",
      "metadata": {
        "id": "EU2sdl7QmdsB",
        "colab_type": "code",
        "colab": {
          "base_uri": "https://localhost:8080/",
          "height": 204
        },
        "outputId": "bebfefc7-d466-4a3e-b8c8-59dfbf70dc78"
      },
      "source": [
        "dataSet.head(n=5)"
      ],
      "execution_count": 19,
      "outputs": [
        {
          "output_type": "execute_result",
          "data": {
            "text/html": [
              "<div>\n",
              "<style scoped>\n",
              "    .dataframe tbody tr th:only-of-type {\n",
              "        vertical-align: middle;\n",
              "    }\n",
              "\n",
              "    .dataframe tbody tr th {\n",
              "        vertical-align: top;\n",
              "    }\n",
              "\n",
              "    .dataframe thead th {\n",
              "        text-align: right;\n",
              "    }\n",
              "</style>\n",
              "<table border=\"1\" class=\"dataframe\">\n",
              "  <thead>\n",
              "    <tr style=\"text-align: right;\">\n",
              "      <th></th>\n",
              "      <th>buying</th>\n",
              "      <th>maint</th>\n",
              "      <th>doors</th>\n",
              "      <th>persons</th>\n",
              "      <th>lug_boot</th>\n",
              "      <th>safety</th>\n",
              "      <th>Class</th>\n",
              "    </tr>\n",
              "  </thead>\n",
              "  <tbody>\n",
              "    <tr>\n",
              "      <th>0</th>\n",
              "      <td>4</td>\n",
              "      <td>4</td>\n",
              "      <td>2</td>\n",
              "      <td>2</td>\n",
              "      <td>1</td>\n",
              "      <td>1</td>\n",
              "      <td>unacc</td>\n",
              "    </tr>\n",
              "    <tr>\n",
              "      <th>1</th>\n",
              "      <td>4</td>\n",
              "      <td>4</td>\n",
              "      <td>2</td>\n",
              "      <td>2</td>\n",
              "      <td>1</td>\n",
              "      <td>2</td>\n",
              "      <td>unacc</td>\n",
              "    </tr>\n",
              "    <tr>\n",
              "      <th>2</th>\n",
              "      <td>4</td>\n",
              "      <td>4</td>\n",
              "      <td>2</td>\n",
              "      <td>2</td>\n",
              "      <td>1</td>\n",
              "      <td>3</td>\n",
              "      <td>unacc</td>\n",
              "    </tr>\n",
              "    <tr>\n",
              "      <th>3</th>\n",
              "      <td>4</td>\n",
              "      <td>4</td>\n",
              "      <td>2</td>\n",
              "      <td>2</td>\n",
              "      <td>2</td>\n",
              "      <td>1</td>\n",
              "      <td>unacc</td>\n",
              "    </tr>\n",
              "    <tr>\n",
              "      <th>4</th>\n",
              "      <td>4</td>\n",
              "      <td>4</td>\n",
              "      <td>2</td>\n",
              "      <td>2</td>\n",
              "      <td>2</td>\n",
              "      <td>2</td>\n",
              "      <td>unacc</td>\n",
              "    </tr>\n",
              "  </tbody>\n",
              "</table>\n",
              "</div>"
            ],
            "text/plain": [
              "   buying  maint doors persons  lug_boot  safety  Class\n",
              "0       4      4     2       2         1       1  unacc\n",
              "1       4      4     2       2         1       2  unacc\n",
              "2       4      4     2       2         1       3  unacc\n",
              "3       4      4     2       2         2       1  unacc\n",
              "4       4      4     2       2         2       2  unacc"
            ]
          },
          "metadata": {
            "tags": []
          },
          "execution_count": 19
        }
      ]
    },
    {
      "cell_type": "code",
      "metadata": {
        "id": "nngPInG4glRN",
        "colab_type": "code",
        "colab": {
          "base_uri": "https://localhost:8080/",
          "height": 102
        },
        "outputId": "51436f11-c1c4-4486-8baf-58b9150ce08a"
      },
      "source": [
        "# Valores de la atributo \"Class\"\n",
        "dataSet.Class.value_counts()"
      ],
      "execution_count": 20,
      "outputs": [
        {
          "output_type": "execute_result",
          "data": {
            "text/plain": [
              "unacc    1210\n",
              "acc       384\n",
              "good       69\n",
              "vgood      65\n",
              "Name: Class, dtype: int64"
            ]
          },
          "metadata": {
            "tags": []
          },
          "execution_count": 20
        }
      ]
    },
    {
      "cell_type": "markdown",
      "metadata": {
        "id": "Yu9lsekbn_NZ",
        "colab_type": "text"
      },
      "source": [
        "## ***Splitting Data***"
      ]
    },
    {
      "cell_type": "code",
      "metadata": {
        "id": "4klvTyY9ovGJ",
        "colab_type": "code",
        "colab": {}
      },
      "source": [
        "# Definir semilla y tamaño del conjuto de prueba\n",
        "seed =123\n",
        "test_size=0.2"
      ],
      "execution_count": 21,
      "outputs": []
    },
    {
      "cell_type": "code",
      "metadata": {
        "id": "ORRg6oHEoEP3",
        "colab_type": "code",
        "colab": {}
      },
      "source": [
        "# Se separa el atributo objetivo(target) en \"y\" y los demas atributos en \"X\"\n",
        "X = dataSet.drop(['Class'],axis=1)\n",
        "y = dataSet['Class']"
      ],
      "execution_count": 22,
      "outputs": []
    },
    {
      "cell_type": "code",
      "metadata": {
        "id": "mUuUAmnbo0NL",
        "colab_type": "code",
        "colab": {}
      },
      "source": [
        "X_train, X_test, y_train, y_test = train_test_split(X,y,test_size = test_size, random_state = seed)"
      ],
      "execution_count": 23,
      "outputs": []
    },
    {
      "cell_type": "markdown",
      "metadata": {
        "id": "ITpEPf9OpQcP",
        "colab_type": "text"
      },
      "source": [
        "## ***Máquinas de vectores de soporte***"
      ]
    },
    {
      "cell_type": "code",
      "metadata": {
        "id": "LawrwOdppuVO",
        "colab_type": "code",
        "colab": {}
      },
      "source": [
        "from sklearn.svm import SVC"
      ],
      "execution_count": 24,
      "outputs": []
    },
    {
      "cell_type": "code",
      "metadata": {
        "id": "dWuz7-fZpg6L",
        "colab_type": "code",
        "colab": {}
      },
      "source": [
        "clf = SVC(kernel='rbf')\n",
        "#clf = SVC(kernel='linear')\n",
        "#clf = SVC(kernel='poly')\n",
        "#clf = SVC(kernel='sigmoid')\n",
        "clf.fit(X_train, y_train)\n",
        "\n",
        "# Predecir la respuesta para el conjunto de datos de prueba\n",
        "y_pred = clf.predict(X_test)"
      ],
      "execution_count": 25,
      "outputs": []
    },
    {
      "cell_type": "code",
      "metadata": {
        "id": "DmRb7R4AqumZ",
        "colab_type": "code",
        "colab": {
          "base_uri": "https://localhost:8080/",
          "height": 187
        },
        "outputId": "990b1994-a847-44c6-f46c-9b7c27766239"
      },
      "source": [
        "# Resultados\n",
        "\n",
        "print(\"Numero de datos en test:\",X_test.shape[0])\n",
        "print(\"Numero de aciertos:\",metrics.accuracy_score(y_test,y_pred,normalize=False))\n",
        "print(\"Numero de desaciertos:\",(y_test != y_pred).sum())\n",
        "print(\"Exactitud(Accuracy):\",metrics.accuracy_score(y_test,y_pred))\n",
        "\n",
        "# Matriz de Confución\n",
        "print(\"\\n\\t---Matriz de Confución SVM---\")\n",
        "print(metrics.confusion_matrix(y_test,y_pred))"
      ],
      "execution_count": 26,
      "outputs": [
        {
          "output_type": "stream",
          "text": [
            "Numero de datos en test: 346\n",
            "Numero de aciertos: 328\n",
            "Numero de desaciertos: 18\n",
            "Exactitud(Accuracy): 0.9479768786127167\n",
            "\n",
            "\t---Matriz de Confución SVM---\n",
            "[[ 80   0   4   0]\n",
            " [  2   9   0   2]\n",
            " [  9   0 228   0]\n",
            " [  1   0   0  11]]\n"
          ],
          "name": "stdout"
        }
      ]
    },
    {
      "cell_type": "markdown",
      "metadata": {
        "id": "Q4e8tx5bq8Fo",
        "colab_type": "text"
      },
      "source": [
        "## **Validacion Cruzada**"
      ]
    },
    {
      "cell_type": "code",
      "metadata": {
        "id": "ZpLs5feLq8_F",
        "colab_type": "code",
        "colab": {}
      },
      "source": [
        "# Importarcion librerias\n",
        "from sklearn.model_selection import KFold\n",
        "from sklearn.model_selection import StratifiedKFold\n",
        "from sklearn.model_selection import cross_val_score"
      ],
      "execution_count": 27,
      "outputs": []
    },
    {
      "cell_type": "markdown",
      "metadata": {
        "id": "X7VZ72xSrBJF",
        "colab_type": "text"
      },
      "source": [
        "***KF***"
      ]
    },
    {
      "cell_type": "code",
      "metadata": {
        "id": "6HOb9QLfXeyL",
        "colab_type": "code",
        "colab": {
          "base_uri": "https://localhost:8080/",
          "height": 629
        },
        "outputId": "8686f16a-9992-4a45-e498-7c81f971090b"
      },
      "source": [
        "print(\"Accuracy with Splitting:\",metrics.accuracy_score(y_test,y_pred),\"\\n\")\n",
        "\n",
        "for iteratorKF in range(5,11):\n",
        "  kf = KFold(n_splits=iteratorKF,shuffle=True,random_state=seed)\n",
        "  scores_cross = cross_val_score(clf, X, y, cv = kf)\n",
        "  #Scores\n",
        "  print(\"KF = \",kf.n_splits)  \n",
        "  print(\"Accuracies with Cross Validation KF: \", scores_cross)\n",
        "  print(\"Accuracy mean with Cross Validation KF: \", scores_cross.mean())\n",
        "  print(\"\\n\")\n"
      ],
      "execution_count": 35,
      "outputs": [
        {
          "output_type": "stream",
          "text": [
            "Accuracy with Splitting: 0.9479768786127167 \n",
            "\n",
            "KF =  5\n",
            "Accuracies with Cross Validation KF:  [0.94797688 0.96820809 0.93930636 0.93913043 0.95362319]\n",
            "Accuracy mean with Cross Validation KF:  0.9496489905336348\n",
            "\n",
            "\n",
            "KF =  6\n",
            "Accuracies with Cross Validation KF:  [0.94444444 0.96180556 0.94444444 0.94444444 0.92361111 0.96527778]\n",
            "Accuracy mean with Cross Validation KF:  0.9473379629629629\n",
            "\n",
            "\n",
            "KF =  7\n",
            "Accuracies with Cross Validation KF:  [0.94736842 0.95951417 0.94331984 0.94331984 0.95951417 0.91497976\n",
            " 0.96341463]\n",
            "Accuracy mean with Cross Validation KF:  0.9473472612111894\n",
            "\n",
            "\n",
            "KF =  8\n",
            "Accuracies with Cross Validation KF:  [0.94444444 0.95833333 0.97222222 0.93981481 0.94444444 0.95833333\n",
            " 0.90740741 0.96759259]\n",
            "Accuracy mean with Cross Validation KF:  0.9490740740740741\n",
            "\n",
            "\n",
            "KF =  9\n",
            "Accuracies with Cross Validation KF:  [0.953125   0.953125   0.97395833 0.953125   0.94270833 0.95833333\n",
            " 0.9375     0.94270833 0.97395833]\n",
            "Accuracy mean with Cross Validation KF:  0.9542824074074076\n",
            "\n",
            "\n",
            "KF =  10\n",
            "Accuracies with Cross Validation KF:  [0.94797688 0.94797688 0.97109827 0.96531792 0.93641618 0.94797688\n",
            " 0.96531792 0.92485549 0.93023256 0.97674419]\n",
            "Accuracy mean with Cross Validation KF:  0.9513913160371018\n",
            "\n",
            "\n"
          ],
          "name": "stdout"
        }
      ]
    },
    {
      "cell_type": "markdown",
      "metadata": {
        "id": "EbdvehnKrAbJ",
        "colab_type": "text"
      },
      "source": [
        "### ***SKF***"
      ]
    },
    {
      "cell_type": "code",
      "metadata": {
        "id": "Iu4L1nh9rS6T",
        "colab_type": "code",
        "colab": {
          "base_uri": "https://localhost:8080/",
          "height": 629
        },
        "outputId": "3d6b4185-d604-4b7e-fc01-157c90dc9147"
      },
      "source": [
        "print(\"Accuracy with Splitting:\",metrics.accuracy_score(y_test,y_pred),\"\\n\")\n",
        "\n",
        "for iteratorSKF in range(5,11):\n",
        "  skf = StratifiedKFold(n_splits=iteratorSKF,shuffle=True,random_state=seed)\n",
        "  scores_cross = cross_val_score(clf, X, y, cv = skf)\n",
        "  #Scores\n",
        "  print(\"KF = \",skf.n_splits)  \n",
        "  print(\"Accuracies with Cross Validation SKF: \", scores_cross)\n",
        "  print(\"Accuracy mean with Cross Validation SKF: \", scores_cross.mean())\n",
        "  print(\"\\n\")\n"
      ],
      "execution_count": 37,
      "outputs": [
        {
          "output_type": "stream",
          "text": [
            "Accuracy with Splitting: 0.9479768786127167 \n",
            "\n",
            "KF =  5\n",
            "Accuracies with Cross Validation SKF:  [0.9566474  0.96531792 0.94219653 0.95652174 0.94202899]\n",
            "Accuracy mean with Cross Validation SKF:  0.9525425148697326\n",
            "\n",
            "\n",
            "KF =  6\n",
            "Accuracies with Cross Validation SKF:  [0.96875    0.95833333 0.93402778 0.95138889 0.96527778 0.94444444]\n",
            "Accuracy mean with Cross Validation SKF:  0.9537037037037037\n",
            "\n",
            "\n",
            "KF =  7\n",
            "Accuracies with Cross Validation SKF:  [0.96356275 0.94736842 0.94331984 0.95546559 0.951417   0.94331984\n",
            " 0.94308943]\n",
            "Accuracy mean with Cross Validation SKF:  0.9496489817414079\n",
            "\n",
            "\n",
            "KF =  8\n",
            "Accuracies with Cross Validation SKF:  [0.96759259 0.94444444 0.9537037  0.94907407 0.9537037  0.9537037\n",
            " 0.93518519 0.94907407]\n",
            "Accuracy mean with Cross Validation SKF:  0.9508101851851852\n",
            "\n",
            "\n",
            "KF =  9\n",
            "Accuracies with Cross Validation SKF:  [0.96875    0.9375     0.97395833 0.953125   0.94791667 0.953125\n",
            " 0.953125   0.92708333 0.94791667]\n",
            "Accuracy mean with Cross Validation SKF:  0.9513888888888888\n",
            "\n",
            "\n",
            "KF =  10\n",
            "Accuracies with Cross Validation SKF:  [0.96531792 0.95375723 0.97109827 0.95953757 0.94219653 0.94219653\n",
            " 0.95953757 0.95953757 0.93604651 0.94186047]\n",
            "Accuracy mean with Cross Validation SKF:  0.9531086167495632\n",
            "\n",
            "\n"
          ],
          "name": "stdout"
        }
      ]
    }
  ]
}