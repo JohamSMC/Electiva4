{
  "nbformat": 4,
  "nbformat_minor": 0,
  "metadata": {
    "colab": {
      "name": "5- DataSplit-DataSet-Iris.ipynb",
      "provenance": [],
      "collapsed_sections": [],
      "mount_file_id": "1QevN09wO8mBHbD6iaO1yCNEC4sXQJ6wX",
      "authorship_tag": "ABX9TyOxpEtpaUUG9J7Q3dxE8kf+"
    },
    "kernelspec": {
      "name": "python3",
      "display_name": "Python 3"
    }
  },
  "cells": [
    {
      "cell_type": "code",
      "metadata": {
        "id": "Nnib2Zdil7kJ",
        "colab_type": "code",
        "colab": {}
      },
      "source": [
        "#Importar Librerias\n",
        "import pandas as pd\n",
        "from sklearn.model_selection import train_test_split"
      ],
      "execution_count": 1,
      "outputs": []
    },
    {
      "cell_type": "code",
      "metadata": {
        "id": "n_Vx_asmnPrA",
        "colab_type": "code",
        "colab": {
          "base_uri": "https://localhost:8080/",
          "height": 450
        },
        "outputId": "523367ea-cd0f-4c72-9c0e-6e1a3c4429ec"
      },
      "source": [
        "#Cargar DataSet\n",
        "dataSet = pd.read_csv('https://raw.githubusercontent.com/JohamSMC/electiva4/master/dataSets/dataSet-Iris.txt',sep='\\t', index_col=0)\n",
        "dataSet"
      ],
      "execution_count": 2,
      "outputs": [
        {
          "output_type": "execute_result",
          "data": {
            "text/html": [
              "<div>\n",
              "<style scoped>\n",
              "    .dataframe tbody tr th:only-of-type {\n",
              "        vertical-align: middle;\n",
              "    }\n",
              "\n",
              "    .dataframe tbody tr th {\n",
              "        vertical-align: top;\n",
              "    }\n",
              "\n",
              "    .dataframe thead th {\n",
              "        text-align: right;\n",
              "    }\n",
              "</style>\n",
              "<table border=\"1\" class=\"dataframe\">\n",
              "  <thead>\n",
              "    <tr style=\"text-align: right;\">\n",
              "      <th></th>\n",
              "      <th>sepal width</th>\n",
              "      <th>petal length</th>\n",
              "      <th>petal width</th>\n",
              "      <th>class</th>\n",
              "    </tr>\n",
              "    <tr>\n",
              "      <th>sepal length</th>\n",
              "      <th></th>\n",
              "      <th></th>\n",
              "      <th></th>\n",
              "      <th></th>\n",
              "    </tr>\n",
              "  </thead>\n",
              "  <tbody>\n",
              "    <tr>\n",
              "      <th>5.1</th>\n",
              "      <td>3.5</td>\n",
              "      <td>1.4</td>\n",
              "      <td>0.2</td>\n",
              "      <td>Iris-setosa</td>\n",
              "    </tr>\n",
              "    <tr>\n",
              "      <th>4.9</th>\n",
              "      <td>3.0</td>\n",
              "      <td>1.4</td>\n",
              "      <td>0.2</td>\n",
              "      <td>Iris-setosa</td>\n",
              "    </tr>\n",
              "    <tr>\n",
              "      <th>4.7</th>\n",
              "      <td>3.2</td>\n",
              "      <td>1.3</td>\n",
              "      <td>0.2</td>\n",
              "      <td>Iris-setosa</td>\n",
              "    </tr>\n",
              "    <tr>\n",
              "      <th>4.6</th>\n",
              "      <td>3.1</td>\n",
              "      <td>1.5</td>\n",
              "      <td>0.2</td>\n",
              "      <td>Iris-setosa</td>\n",
              "    </tr>\n",
              "    <tr>\n",
              "      <th>5.0</th>\n",
              "      <td>3.6</td>\n",
              "      <td>1.4</td>\n",
              "      <td>0.2</td>\n",
              "      <td>Iris-setosa</td>\n",
              "    </tr>\n",
              "    <tr>\n",
              "      <th>...</th>\n",
              "      <td>...</td>\n",
              "      <td>...</td>\n",
              "      <td>...</td>\n",
              "      <td>...</td>\n",
              "    </tr>\n",
              "    <tr>\n",
              "      <th>6.7</th>\n",
              "      <td>3.0</td>\n",
              "      <td>5.2</td>\n",
              "      <td>2.3</td>\n",
              "      <td>Iris-virginica</td>\n",
              "    </tr>\n",
              "    <tr>\n",
              "      <th>6.3</th>\n",
              "      <td>2.5</td>\n",
              "      <td>5.0</td>\n",
              "      <td>1.9</td>\n",
              "      <td>Iris-virginica</td>\n",
              "    </tr>\n",
              "    <tr>\n",
              "      <th>6.5</th>\n",
              "      <td>3.0</td>\n",
              "      <td>5.2</td>\n",
              "      <td>2.0</td>\n",
              "      <td>Iris-virginica</td>\n",
              "    </tr>\n",
              "    <tr>\n",
              "      <th>6.2</th>\n",
              "      <td>3.4</td>\n",
              "      <td>5.4</td>\n",
              "      <td>2.3</td>\n",
              "      <td>Iris-virginica</td>\n",
              "    </tr>\n",
              "    <tr>\n",
              "      <th>5.9</th>\n",
              "      <td>3.0</td>\n",
              "      <td>5.1</td>\n",
              "      <td>1.8</td>\n",
              "      <td>Iris-virginica</td>\n",
              "    </tr>\n",
              "  </tbody>\n",
              "</table>\n",
              "<p>150 rows × 4 columns</p>\n",
              "</div>"
            ],
            "text/plain": [
              "              sepal width  petal length  petal width           class\n",
              "sepal length                                                        \n",
              "5.1                   3.5           1.4          0.2     Iris-setosa\n",
              "4.9                   3.0           1.4          0.2     Iris-setosa\n",
              "4.7                   3.2           1.3          0.2     Iris-setosa\n",
              "4.6                   3.1           1.5          0.2     Iris-setosa\n",
              "5.0                   3.6           1.4          0.2     Iris-setosa\n",
              "...                   ...           ...          ...             ...\n",
              "6.7                   3.0           5.2          2.3  Iris-virginica\n",
              "6.3                   2.5           5.0          1.9  Iris-virginica\n",
              "6.5                   3.0           5.2          2.0  Iris-virginica\n",
              "6.2                   3.4           5.4          2.3  Iris-virginica\n",
              "5.9                   3.0           5.1          1.8  Iris-virginica\n",
              "\n",
              "[150 rows x 4 columns]"
            ]
          },
          "metadata": {
            "tags": []
          },
          "execution_count": 2
        }
      ]
    },
    {
      "cell_type": "code",
      "metadata": {
        "id": "kW-YONaIpc0Q",
        "colab_type": "code",
        "colab": {}
      },
      "source": [
        "# Division Linear\n",
        "train, test = train_test_split(dataSet, test_size = 0.20, shuffle = False)"
      ],
      "execution_count": 3,
      "outputs": []
    },
    {
      "cell_type": "code",
      "metadata": {
        "id": "lMFMaheOqJTl",
        "colab_type": "code",
        "colab": {
          "base_uri": "https://localhost:8080/",
          "height": 51
        },
        "outputId": "2faa5f0f-15bc-406e-ec68-150f79caa595"
      },
      "source": [
        "print(\"Tamaño dataSet-train: \", len(train))\n",
        "print(\"Tamaño dataSet-test: \", len(test))"
      ],
      "execution_count": 4,
      "outputs": [
        {
          "output_type": "stream",
          "text": [
            "Tamaño dataSet-train:  120\n",
            "Tamaño dataSet-test:  30\n"
          ],
          "name": "stdout"
        }
      ]
    },
    {
      "cell_type": "code",
      "metadata": {
        "id": "ONLKUm2sqLjE",
        "colab_type": "code",
        "colab": {}
      },
      "source": [
        "# Division Aleatoria\n",
        "trainA, testA = train_test_split(dataSet, test_size = 0.30)"
      ],
      "execution_count": 5,
      "outputs": []
    },
    {
      "cell_type": "code",
      "metadata": {
        "id": "WKpuJ_RArJJ7",
        "colab_type": "code",
        "colab": {
          "base_uri": "https://localhost:8080/",
          "height": 51
        },
        "outputId": "3319c146-477e-4df3-f11f-1827170885c8"
      },
      "source": [
        "print(\"Tamaño dataSet-train: \", len(trainA))\n",
        "print(\"Tamaño dataSet-test: \", len(testA))"
      ],
      "execution_count": 6,
      "outputs": [
        {
          "output_type": "stream",
          "text": [
            "Tamaño dataSet-train:  105\n",
            "Tamaño dataSet-test:  45\n"
          ],
          "name": "stdout"
        }
      ]
    }
  ]
}