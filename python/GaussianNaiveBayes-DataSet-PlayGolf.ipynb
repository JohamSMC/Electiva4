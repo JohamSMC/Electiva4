{
  "nbformat": 4,
  "nbformat_minor": 0,
  "metadata": {
    "colab": {
      "name": "7-GaussianNaiveBayes - DataSet-PlayGolf.ipynb",
      "provenance": [],
      "collapsed_sections": [],
      "mount_file_id": "1N9VsuFhBFtrO8QrL3nnUuvKwxkyOTEVW",
      "authorship_tag": "ABX9TyPA0rM4yl2T77VooxVIjw3Y"
    },
    "kernelspec": {
      "name": "python3",
      "display_name": "Python 3"
    }
  },
  "cells": [
    {
      "cell_type": "code",
      "metadata": {
        "id": "Ec2S2Naq-u6S",
        "colab_type": "code",
        "colab": {}
      },
      "source": [
        "#Carga libreria\n",
        "from sklearn.model_selection import train_test_split\n",
        "from sklearn.naive_bayes import GaussianNB\n",
        "from sklearn import metrics\n",
        "\n",
        "import pandas as pd\n",
        "import numpy as np"
      ],
      "execution_count": 1,
      "outputs": []
    },
    {
      "cell_type": "code",
      "metadata": {
        "id": "K9uhpDhE_MNQ",
        "colab_type": "code",
        "colab": {
          "base_uri": "https://localhost:8080/",
          "height": 442
        },
        "outputId": "a142101f-7011-4cc1-ff58-3999f3cb1778"
      },
      "source": [
        "# Cargar DataSet\n",
        "dataSet = pd.read_csv('https://raw.githubusercontent.com/JohamSMC/electiva4/master/dataSets/dataSet-playGolf.txt',sep='\\t')\n",
        "dataSet.info()\n",
        "dataSet.head()"
      ],
      "execution_count": 2,
      "outputs": [
        {
          "output_type": "stream",
          "text": [
            "<class 'pandas.core.frame.DataFrame'>\n",
            "RangeIndex: 14 entries, 0 to 13\n",
            "Data columns (total 7 columns):\n",
            " #   Column              Non-Null Count  Dtype \n",
            "---  ------              --------------  ----- \n",
            " 0   Outlook             14 non-null     object\n",
            " 1   TemperatureNumeric  14 non-null     int64 \n",
            " 2   TemperatureNominal  14 non-null     object\n",
            " 3   HumidityNumeric     14 non-null     int64 \n",
            " 4   HumidityNominal     14 non-null     object\n",
            " 5   Windy               14 non-null     bool  \n",
            " 6   Play                14 non-null     object\n",
            "dtypes: bool(1), int64(2), object(4)\n",
            "memory usage: 814.0+ bytes\n"
          ],
          "name": "stdout"
        },
        {
          "output_type": "execute_result",
          "data": {
            "text/html": [
              "<div>\n",
              "<style scoped>\n",
              "    .dataframe tbody tr th:only-of-type {\n",
              "        vertical-align: middle;\n",
              "    }\n",
              "\n",
              "    .dataframe tbody tr th {\n",
              "        vertical-align: top;\n",
              "    }\n",
              "\n",
              "    .dataframe thead th {\n",
              "        text-align: right;\n",
              "    }\n",
              "</style>\n",
              "<table border=\"1\" class=\"dataframe\">\n",
              "  <thead>\n",
              "    <tr style=\"text-align: right;\">\n",
              "      <th></th>\n",
              "      <th>Outlook</th>\n",
              "      <th>TemperatureNumeric</th>\n",
              "      <th>TemperatureNominal</th>\n",
              "      <th>HumidityNumeric</th>\n",
              "      <th>HumidityNominal</th>\n",
              "      <th>Windy</th>\n",
              "      <th>Play</th>\n",
              "    </tr>\n",
              "  </thead>\n",
              "  <tbody>\n",
              "    <tr>\n",
              "      <th>0</th>\n",
              "      <td>overcast</td>\n",
              "      <td>83</td>\n",
              "      <td>hot</td>\n",
              "      <td>86</td>\n",
              "      <td>high</td>\n",
              "      <td>False</td>\n",
              "      <td>yes</td>\n",
              "    </tr>\n",
              "    <tr>\n",
              "      <th>1</th>\n",
              "      <td>overcast</td>\n",
              "      <td>64</td>\n",
              "      <td>cool</td>\n",
              "      <td>65</td>\n",
              "      <td>normal</td>\n",
              "      <td>True</td>\n",
              "      <td>yes</td>\n",
              "    </tr>\n",
              "    <tr>\n",
              "      <th>2</th>\n",
              "      <td>overcast</td>\n",
              "      <td>72</td>\n",
              "      <td>mild</td>\n",
              "      <td>90</td>\n",
              "      <td>high</td>\n",
              "      <td>True</td>\n",
              "      <td>yes</td>\n",
              "    </tr>\n",
              "    <tr>\n",
              "      <th>3</th>\n",
              "      <td>overcast</td>\n",
              "      <td>81</td>\n",
              "      <td>hot</td>\n",
              "      <td>75</td>\n",
              "      <td>normal</td>\n",
              "      <td>False</td>\n",
              "      <td>yes</td>\n",
              "    </tr>\n",
              "    <tr>\n",
              "      <th>4</th>\n",
              "      <td>rainy</td>\n",
              "      <td>70</td>\n",
              "      <td>mild</td>\n",
              "      <td>96</td>\n",
              "      <td>high</td>\n",
              "      <td>False</td>\n",
              "      <td>yes</td>\n",
              "    </tr>\n",
              "  </tbody>\n",
              "</table>\n",
              "</div>"
            ],
            "text/plain": [
              "    Outlook  TemperatureNumeric TemperatureNominal  ...  HumidityNominal  Windy  Play\n",
              "0  overcast                  83                hot  ...             high  False   yes\n",
              "1  overcast                  64               cool  ...           normal   True   yes\n",
              "2  overcast                  72               mild  ...             high   True   yes\n",
              "3  overcast                  81                hot  ...           normal  False   yes\n",
              "4     rainy                  70               mild  ...             high  False   yes\n",
              "\n",
              "[5 rows x 7 columns]"
            ]
          },
          "metadata": {
            "tags": []
          },
          "execution_count": 2
        }
      ]
    },
    {
      "cell_type": "code",
      "metadata": {
        "id": "o3wZM9s2CL76",
        "colab_type": "code",
        "colab": {
          "base_uri": "https://localhost:8080/",
          "height": 272
        },
        "outputId": "4a0b08e5-d87f-4fae-9ca4-e2d5f8cfc7c3"
      },
      "source": [
        "print(dataSet.Outlook.value_counts())\n",
        "dataSet.head()"
      ],
      "execution_count": 3,
      "outputs": [
        {
          "output_type": "stream",
          "text": [
            "sunny       5\n",
            "rainy       5\n",
            "overcast    4\n",
            "Name: Outlook, dtype: int64\n"
          ],
          "name": "stdout"
        },
        {
          "output_type": "execute_result",
          "data": {
            "text/html": [
              "<div>\n",
              "<style scoped>\n",
              "    .dataframe tbody tr th:only-of-type {\n",
              "        vertical-align: middle;\n",
              "    }\n",
              "\n",
              "    .dataframe tbody tr th {\n",
              "        vertical-align: top;\n",
              "    }\n",
              "\n",
              "    .dataframe thead th {\n",
              "        text-align: right;\n",
              "    }\n",
              "</style>\n",
              "<table border=\"1\" class=\"dataframe\">\n",
              "  <thead>\n",
              "    <tr style=\"text-align: right;\">\n",
              "      <th></th>\n",
              "      <th>Outlook</th>\n",
              "      <th>TemperatureNumeric</th>\n",
              "      <th>TemperatureNominal</th>\n",
              "      <th>HumidityNumeric</th>\n",
              "      <th>HumidityNominal</th>\n",
              "      <th>Windy</th>\n",
              "      <th>Play</th>\n",
              "    </tr>\n",
              "  </thead>\n",
              "  <tbody>\n",
              "    <tr>\n",
              "      <th>0</th>\n",
              "      <td>overcast</td>\n",
              "      <td>83</td>\n",
              "      <td>hot</td>\n",
              "      <td>86</td>\n",
              "      <td>high</td>\n",
              "      <td>False</td>\n",
              "      <td>yes</td>\n",
              "    </tr>\n",
              "    <tr>\n",
              "      <th>1</th>\n",
              "      <td>overcast</td>\n",
              "      <td>64</td>\n",
              "      <td>cool</td>\n",
              "      <td>65</td>\n",
              "      <td>normal</td>\n",
              "      <td>True</td>\n",
              "      <td>yes</td>\n",
              "    </tr>\n",
              "    <tr>\n",
              "      <th>2</th>\n",
              "      <td>overcast</td>\n",
              "      <td>72</td>\n",
              "      <td>mild</td>\n",
              "      <td>90</td>\n",
              "      <td>high</td>\n",
              "      <td>True</td>\n",
              "      <td>yes</td>\n",
              "    </tr>\n",
              "    <tr>\n",
              "      <th>3</th>\n",
              "      <td>overcast</td>\n",
              "      <td>81</td>\n",
              "      <td>hot</td>\n",
              "      <td>75</td>\n",
              "      <td>normal</td>\n",
              "      <td>False</td>\n",
              "      <td>yes</td>\n",
              "    </tr>\n",
              "    <tr>\n",
              "      <th>4</th>\n",
              "      <td>rainy</td>\n",
              "      <td>70</td>\n",
              "      <td>mild</td>\n",
              "      <td>96</td>\n",
              "      <td>high</td>\n",
              "      <td>False</td>\n",
              "      <td>yes</td>\n",
              "    </tr>\n",
              "  </tbody>\n",
              "</table>\n",
              "</div>"
            ],
            "text/plain": [
              "    Outlook  TemperatureNumeric TemperatureNominal  ...  HumidityNominal  Windy  Play\n",
              "0  overcast                  83                hot  ...             high  False   yes\n",
              "1  overcast                  64               cool  ...           normal   True   yes\n",
              "2  overcast                  72               mild  ...             high   True   yes\n",
              "3  overcast                  81                hot  ...           normal  False   yes\n",
              "4     rainy                  70               mild  ...             high  False   yes\n",
              "\n",
              "[5 rows x 7 columns]"
            ]
          },
          "metadata": {
            "tags": []
          },
          "execution_count": 3
        }
      ]
    },
    {
      "cell_type": "code",
      "metadata": {
        "id": "ElYYIRlQEJAl",
        "colab_type": "code",
        "colab": {
          "base_uri": "https://localhost:8080/",
          "height": 204
        },
        "outputId": "fdc4d017-291b-4aea-f813-fe6b9a1d950d"
      },
      "source": [
        "# Intercambiar los valores de Outlook de cualitativos a cuantitativos\n",
        "dataSet.Outlook = dataSet.Outlook.replace({\"sunny\":0,\"rainy\":1,\"overcast\":2})\n",
        "dataSet.head()"
      ],
      "execution_count": 4,
      "outputs": [
        {
          "output_type": "execute_result",
          "data": {
            "text/html": [
              "<div>\n",
              "<style scoped>\n",
              "    .dataframe tbody tr th:only-of-type {\n",
              "        vertical-align: middle;\n",
              "    }\n",
              "\n",
              "    .dataframe tbody tr th {\n",
              "        vertical-align: top;\n",
              "    }\n",
              "\n",
              "    .dataframe thead th {\n",
              "        text-align: right;\n",
              "    }\n",
              "</style>\n",
              "<table border=\"1\" class=\"dataframe\">\n",
              "  <thead>\n",
              "    <tr style=\"text-align: right;\">\n",
              "      <th></th>\n",
              "      <th>Outlook</th>\n",
              "      <th>TemperatureNumeric</th>\n",
              "      <th>TemperatureNominal</th>\n",
              "      <th>HumidityNumeric</th>\n",
              "      <th>HumidityNominal</th>\n",
              "      <th>Windy</th>\n",
              "      <th>Play</th>\n",
              "    </tr>\n",
              "  </thead>\n",
              "  <tbody>\n",
              "    <tr>\n",
              "      <th>0</th>\n",
              "      <td>2</td>\n",
              "      <td>83</td>\n",
              "      <td>hot</td>\n",
              "      <td>86</td>\n",
              "      <td>high</td>\n",
              "      <td>False</td>\n",
              "      <td>yes</td>\n",
              "    </tr>\n",
              "    <tr>\n",
              "      <th>1</th>\n",
              "      <td>2</td>\n",
              "      <td>64</td>\n",
              "      <td>cool</td>\n",
              "      <td>65</td>\n",
              "      <td>normal</td>\n",
              "      <td>True</td>\n",
              "      <td>yes</td>\n",
              "    </tr>\n",
              "    <tr>\n",
              "      <th>2</th>\n",
              "      <td>2</td>\n",
              "      <td>72</td>\n",
              "      <td>mild</td>\n",
              "      <td>90</td>\n",
              "      <td>high</td>\n",
              "      <td>True</td>\n",
              "      <td>yes</td>\n",
              "    </tr>\n",
              "    <tr>\n",
              "      <th>3</th>\n",
              "      <td>2</td>\n",
              "      <td>81</td>\n",
              "      <td>hot</td>\n",
              "      <td>75</td>\n",
              "      <td>normal</td>\n",
              "      <td>False</td>\n",
              "      <td>yes</td>\n",
              "    </tr>\n",
              "    <tr>\n",
              "      <th>4</th>\n",
              "      <td>1</td>\n",
              "      <td>70</td>\n",
              "      <td>mild</td>\n",
              "      <td>96</td>\n",
              "      <td>high</td>\n",
              "      <td>False</td>\n",
              "      <td>yes</td>\n",
              "    </tr>\n",
              "  </tbody>\n",
              "</table>\n",
              "</div>"
            ],
            "text/plain": [
              "   Outlook  TemperatureNumeric TemperatureNominal  ...  HumidityNominal  Windy  Play\n",
              "0        2                  83                hot  ...             high  False   yes\n",
              "1        2                  64               cool  ...           normal   True   yes\n",
              "2        2                  72               mild  ...             high   True   yes\n",
              "3        2                  81                hot  ...           normal  False   yes\n",
              "4        1                  70               mild  ...             high  False   yes\n",
              "\n",
              "[5 rows x 7 columns]"
            ]
          },
          "metadata": {
            "tags": []
          },
          "execution_count": 4
        }
      ]
    },
    {
      "cell_type": "code",
      "metadata": {
        "id": "gDFnsSXft0nS",
        "colab_type": "code",
        "colab": {}
      },
      "source": [
        "\"\"\" X = np.array(dataSet.drop(['Play','Outlook','TemperatureNominal','HumidityNominal'],axis=1)) \"\"\"\n",
        "X = np.array(dataSet.drop(['Play','TemperatureNominal','HumidityNominal'],axis=1))\n",
        "y = np.array(dataSet.Play) "
      ],
      "execution_count": 5,
      "outputs": []
    },
    {
      "cell_type": "code",
      "metadata": {
        "id": "TAJFwEK4_5b-",
        "colab_type": "code",
        "colab": {
          "base_uri": "https://localhost:8080/",
          "height": 51
        },
        "outputId": "12c806fb-6d0c-4aac-8511-9f4320eb3db9"
      },
      "source": [
        "print(\"Shape X: \",X.shape)\n",
        "print(\"Shape y: \",y.shape)"
      ],
      "execution_count": 6,
      "outputs": [
        {
          "output_type": "stream",
          "text": [
            "Shape X:  (14, 4)\n",
            "Shape y:  (14,)\n"
          ],
          "name": "stdout"
        }
      ]
    },
    {
      "cell_type": "code",
      "metadata": {
        "id": "rVsK3AhY_sQ5",
        "colab_type": "code",
        "colab": {}
      },
      "source": [
        "# Split del DataSet\n",
        "X_train, X_test, y_train, y_test = train_test_split(X, y, test_size=0.8, random_state=0)"
      ],
      "execution_count": 7,
      "outputs": []
    },
    {
      "cell_type": "code",
      "metadata": {
        "id": "W9euZPJmEsCG",
        "colab_type": "code",
        "colab": {}
      },
      "source": [
        "# Naive Bayes\n",
        "gnb = GaussianNB()\n",
        "y_pred = gnb.fit(X_train, y_train).predict(X_test)"
      ],
      "execution_count": 8,
      "outputs": []
    },
    {
      "cell_type": "code",
      "metadata": {
        "id": "WQpmfJpMFRrL",
        "colab_type": "code",
        "colab": {
          "base_uri": "https://localhost:8080/",
          "height": 187
        },
        "outputId": "9d910cfd-b205-4561-bb35-abf2ee0d20bb"
      },
      "source": [
        "# Resultados\n",
        "\n",
        "#print(\"Numbero de observaciones mal etiquetadas del total de %d observaciones : %d\" %(X_test.shape[0], (y_test != y_pred).sum()))\n",
        "print(\"Numero de datos en test:\",X_test.shape[0])\n",
        "print(\"Numero de aciertos:\",metrics.accuracy_score(y_test,y_pred,normalize=False))\n",
        "print(\"Numero de desaciertos:\",(y_test != y_pred).sum())\n",
        "print(\"Exactitud(Accuracy):\",metrics.accuracy_score(y_test,y_pred))\n",
        "\n",
        "# Matriz de Confución\n",
        "print(\"\\n\\t---Matriz de Confución---\")\n",
        "# print(metrics.confusion_matrix(y_test,y_pred))\n",
        "VN,FP,FN,VP = metrics.confusion_matrix(y_test,y_pred).ravel()\n",
        "print(\"VN \\t FP\")\n",
        "print(VN,\" \\t \",FP)\n",
        "print(\"FN \\t VP\")\n",
        "print(FN,\" \\t \",VP)"
      ],
      "execution_count": 9,
      "outputs": [
        {
          "output_type": "stream",
          "text": [
            "Numero de datos en test: 12\n",
            "Numero de aciertos: 7\n",
            "Numero de desaciertos: 5\n",
            "Exactitud(Accuracy): 0.5833333333333334\n",
            "\n",
            "\t---Matriz de Confución---\n",
            "VN \t FP\n",
            "0  \t  5\n",
            "FN \t VP\n",
            "0  \t  7\n"
          ],
          "name": "stdout"
        }
      ]
    },
    {
      "cell_type": "code",
      "metadata": {
        "id": "BOXNSpR9-Jay",
        "colab_type": "code",
        "colab": {}
      },
      "source": [
        ""
      ],
      "execution_count": null,
      "outputs": []
    }
  ]
}