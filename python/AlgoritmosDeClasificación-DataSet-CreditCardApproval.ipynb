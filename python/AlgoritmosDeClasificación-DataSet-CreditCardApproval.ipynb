{
  "nbformat": 4,
  "nbformat_minor": 0,
  "metadata": {
    "colab": {
      "name": "8-AlgoritmosDeClasificación-DataSet-CreditCardApproval.ipynb",
      "provenance": [],
      "collapsed_sections": [
        "pSfvHvTWqhDF",
        "RhkGCR54qTq7",
        "eUWsAFEjzJQ-",
        "owqjWuZsA0nF",
        "O_JFxVv0yMTO"
      ]
    },
    "kernelspec": {
      "name": "python3",
      "display_name": "Python 3"
    }
  },
  "cells": [
    {
      "cell_type": "code",
      "metadata": {
        "id": "ydgHb8iH-C84",
        "colab_type": "code",
        "colab": {}
      },
      "source": [
        "# Importarcion librerias\n",
        "import numpy as np\n",
        "import pandas as pd\n",
        "import seaborn as sns\n",
        "import matplotlib.pyplot as plt\n",
        "\n",
        "from sklearn.model_selection import train_test_split\n",
        "from sklearn import metrics\n",
        "\n",
        "from sklearn.naive_bayes import GaussianNB\n",
        "\n",
        "from sklearn.tree import DecisionTreeClassifier"
      ],
      "execution_count": null,
      "outputs": []
    },
    {
      "cell_type": "markdown",
      "metadata": {
        "id": "pSfvHvTWqhDF",
        "colab_type": "text"
      },
      "source": [
        "## ***Preparar dataSet `application_record`***\n"
      ]
    },
    {
      "cell_type": "code",
      "metadata": {
        "id": "ccdYS9ij-FqG",
        "colab_type": "code",
        "colab": {}
      },
      "source": [
        "# Cargar dataSets Application_record & Credit_record\n",
        "application= pd.read_csv('/content/drive/My Drive/9° Semestre/Colab Notebooks-UPTC/DataSets/dataSets-CreditCardApproval/application_record.csv', sep=',')\n",
        "application.info()"
      ],
      "execution_count": null,
      "outputs": []
    },
    {
      "cell_type": "code",
      "metadata": {
        "id": "VxHwWLLd2dCq",
        "colab_type": "code",
        "colab": {}
      },
      "source": [
        "# Valores nulos en dataSet application\n",
        "\n",
        "print(\"Numero Filas y Columnas dataSet application = \",application.shape)\n",
        "print(\"Valores nulos en dataSet application: \\n\")\n",
        "print(application.isnull().sum())"
      ],
      "execution_count": null,
      "outputs": []
    },
    {
      "cell_type": "code",
      "metadata": {
        "id": "be_5M3I5UXqP",
        "colab_type": "code",
        "colab": {}
      },
      "source": [
        "# Ver valores en la NULOS(NaN) clase OCCUPATION_TYPE\n",
        "\n",
        "#print(application.OCCUPATION_TYPE.value_counts(dropna=False))\n",
        "print(\"\\nValores nulos en la columna OCCUPATION_TYPE = \",application.OCCUPATION_TYPE.isnull().sum())"
      ],
      "execution_count": null,
      "outputs": []
    },
    {
      "cell_type": "code",
      "metadata": {
        "id": "3lgDOIsjU8j8",
        "colab_type": "code",
        "colab": {}
      },
      "source": [
        "# Eliminar filas con valores nulos(NaN) en la Colummna OCCUPATION_TYPE\n",
        "\n",
        "print(\"Numero Filas y Columnas dataSet application= \",application.shape)\n",
        "print(\"----> Elimando filas con valor NaN en atributo OCCUPATION_TYPE...\")\n",
        "application.drop(application[application.OCCUPATION_TYPE.isnull()].index, inplace = True)\n",
        "print(\"Nuevo numero Filas y Columnas dataSet application= \",application.shape)\n"
      ],
      "execution_count": null,
      "outputs": []
    },
    {
      "cell_type": "markdown",
      "metadata": {
        "id": "RhkGCR54qTq7",
        "colab_type": "text"
      },
      "source": [
        "## ***Preparar dataSet `credit_record`***"
      ]
    },
    {
      "cell_type": "code",
      "metadata": {
        "id": "KkAeWOGVTJ3L",
        "colab_type": "code",
        "colab": {}
      },
      "source": [
        "credit = pd.read_csv('/content/drive/My Drive/9° Semestre/Colab Notebooks-UPTC/DataSets/dataSets-CreditCardApproval/credit_record.csv', sep=',')\n",
        "credit.info()"
      ],
      "execution_count": null,
      "outputs": []
    },
    {
      "cell_type": "code",
      "metadata": {
        "id": "UqosLJO12rZg",
        "colab_type": "code",
        "colab": {}
      },
      "source": [
        "print(\"Numero Filas y Columnas dataSet credit = \",credit.shape)\n",
        "# Valores nulos en dataSet application\n",
        "print(\"Valores nulos en dataSet credit:\\n\")\n",
        "print(credit.isnull().sum())"
      ],
      "execution_count": null,
      "outputs": []
    },
    {
      "cell_type": "code",
      "metadata": {
        "id": "hE0ekMmGrBPc",
        "colab_type": "code",
        "colab": {}
      },
      "source": [
        "# Eliminar atributo(columna) MONTHS_BALANCE\t\n",
        "print(\"----> Eliminando atributo MONTHS_BALANCE dataSet credit...\\n\")\n",
        "credit.drop(['MONTHS_BALANCE'],axis='columns',inplace=True)\n",
        "credit.info()"
      ],
      "execution_count": null,
      "outputs": []
    },
    {
      "cell_type": "code",
      "metadata": {
        "id": "C8Lbkx6W37gA",
        "colab_type": "code",
        "colab": {}
      },
      "source": [
        "print(\"Nuevo numero Filas y Columnas dataSet credit = \",credit.shape)\n",
        "# Valores nulos en dataSet application\n",
        "print(\"Valores nulos en dataSet credit:\\n\")\n",
        "print(credit.isnull().sum())"
      ],
      "execution_count": null,
      "outputs": []
    },
    {
      "cell_type": "code",
      "metadata": {
        "id": "srmp61lAsUTY",
        "colab_type": "code",
        "colab": {}
      },
      "source": [
        "# Concatenando valores de atributo(Columna) STATUS por ID\n",
        "credit = credit.groupby(credit['ID']).aggregate({'STATUS':'sum'})\n",
        "credit.head(n=10)"
      ],
      "execution_count": null,
      "outputs": []
    },
    {
      "cell_type": "markdown",
      "metadata": {
        "id": "eUWsAFEjzJQ-",
        "colab_type": "text"
      },
      "source": [
        "## ***Unir dataSets `application_record` y `credit_record`***"
      ]
    },
    {
      "cell_type": "code",
      "metadata": {
        "id": "8d8ghq925YB4",
        "colab_type": "code",
        "colab": {
          "base_uri": "https://localhost:8080/",
          "height": 51
        },
        "outputId": "b82ab46a-aa23-4f15-969f-d7bbca83737c"
      },
      "source": [
        "print(\"Numero Filas y Columnas dataSet application= \",application.shape)\n",
        "print(\"Numero Filas y Columnas dataSet credit = \",credit.shape)"
      ],
      "execution_count": null,
      "outputs": [
        {
          "output_type": "stream",
          "text": [
            "Numero Filas y Columnas dataSet application=  (304354, 18)\n",
            "Numero Filas y Columnas dataSet credit =  (45985, 1)\n"
          ],
          "name": "stdout"
        }
      ]
    },
    {
      "cell_type": "code",
      "metadata": {
        "id": "SJPVFeWqzHp7",
        "colab_type": "code",
        "colab": {}
      },
      "source": [
        "print(\"----> Uniendo dataSets application Y credit por Atributo(Columna) 'ID'...\\n\")\n",
        "dataSet = pd.merge(application, credit, on='ID')\n",
        "print(dataSet.info())"
      ],
      "execution_count": null,
      "outputs": []
    },
    {
      "cell_type": "code",
      "metadata": {
        "id": "bTZ__LHa1q3p",
        "colab_type": "code",
        "colab": {}
      },
      "source": [
        "# Validar que no existen valores nulos en el dataSet\n",
        "print(\"Numero Filas y Columnas dataSet = \",dataSet.shape)\n",
        "print(\"Valores nulos en dataSet: \\n\")\n",
        "print(dataSet.isnull().sum())"
      ],
      "execution_count": null,
      "outputs": []
    },
    {
      "cell_type": "code",
      "metadata": {
        "id": "e49crUazepwq",
        "colab_type": "code",
        "colab": {}
      },
      "source": [
        "dataSet.info()"
      ],
      "execution_count": null,
      "outputs": []
    },
    {
      "cell_type": "code",
      "metadata": {
        "id": "FPj6T_INjR__",
        "colab_type": "code",
        "colab": {}
      },
      "source": [
        "\"\"\"\n",
        "0: 1-29 días de atraso\n",
        "1: 30-59 días de atraso\n",
        "2: 60-89 días de retraso\n",
        "3: 90-119 días de retraso\n",
        "4: 120-149 días de retraso\n",
        "5: Deudas vencidas o incobrables, cancelaciones por más de 150 días\n",
        "C: pagado ese mes\n",
        "X: Sin préstamo para el mes\n",
        "\"\"\"\n",
        "def goodClient(chain):    \n",
        "  if str(chain).count('3') > 0:\n",
        "    return False\n",
        "  if str(chain).count('4') > 0:\n",
        "    return False\n",
        "  if str(chain).count('5') > 0:\n",
        "    return False    \n",
        "  return True"
      ],
      "execution_count": null,
      "outputs": []
    },
    {
      "cell_type": "code",
      "metadata": {
        "id": "pFKnQt3Rc_MH",
        "colab_type": "code",
        "colab": {}
      },
      "source": [
        "dataSet['goodClient'] = dataSet.STATUS\n",
        "dataSet.goodClient = dataSet.STATUS.apply(goodClient)"
      ],
      "execution_count": null,
      "outputs": []
    },
    {
      "cell_type": "code",
      "metadata": {
        "id": "2PQeLzuBlvXU",
        "colab_type": "code",
        "colab": {}
      },
      "source": [
        "dataSet"
      ],
      "execution_count": null,
      "outputs": []
    },
    {
      "cell_type": "markdown",
      "metadata": {
        "id": "owqjWuZsA0nF",
        "colab_type": "text"
      },
      "source": [
        "### ***Matriz de Correlación***"
      ]
    },
    {
      "cell_type": "code",
      "metadata": {
        "id": "BKTguDAw13NR",
        "colab_type": "code",
        "colab": {}
      },
      "source": [
        "# Importar la libreria necesaria\n",
        "import seaborn as sns"
      ],
      "execution_count": null,
      "outputs": []
    },
    {
      "cell_type": "code",
      "metadata": {
        "id": "nD8nJ7OxDIyP",
        "colab_type": "code",
        "colab": {}
      },
      "source": [
        "# Hallar la matriz de Correlación\n",
        "correlation_matrix = dataSet.corr(method= \"spearman\")\n"
      ],
      "execution_count": null,
      "outputs": []
    },
    {
      "cell_type": "code",
      "metadata": {
        "id": "HFMQs44oD5Cb",
        "colab_type": "code",
        "colab": {
          "base_uri": "https://localhost:8080/",
          "height": 743
        },
        "outputId": "80d56cd5-3cca-468c-8a54-b334bef9a43b"
      },
      "source": [
        "# Graficar la matriz\n",
        "import seaborn as sns\n",
        "\n",
        "plt.figure(figsize=(15,10)) \n",
        "sns.heatmap(correlation_matrix, annot = True,cmap='BuGn') # Link para los colores https://seaborn.pydata.org/tutorial/color_palettes.html\n",
        "plt.title(\"Correlation matrix\",fontdict= {'fontsize':60})\n",
        "plt.savefig(\"correlation-matriz-datSet.png\")\n",
        "plt.show()\n"
      ],
      "execution_count": 72,
      "outputs": [
        {
          "output_type": "display_data",
          "data": {
            "image/png": "[encoded data removed]",
            "text/plain": [
              "<Figure size 1080x720 with 2 Axes>"
            ]
          },
          "metadata": {
            "tags": [],
            "needs_background": "light"
          }
        }
      ]
    },
    {
      "cell_type": "markdown",
      "metadata": {
        "id": "aFiJ4mpHvfEr",
        "colab_type": "text"
      },
      "source": [
        "## **Limpieza de dataSet**"
      ]
    },
    {
      "cell_type": "code",
      "metadata": {
        "id": "9uH_w_uIvnnO",
        "colab_type": "code",
        "colab": {}
      },
      "source": [
        "# Información dataSet\n",
        "dataSet.info()\n",
        "dataSet.head(n=5)"
      ],
      "execution_count": null,
      "outputs": []
    },
    {
      "cell_type": "code",
      "metadata": {
        "id": "F7orBDsgvjGn",
        "colab_type": "code",
        "colab": {}
      },
      "source": [
        "# Eliminación de atributos\n",
        "dataSet = dataSet.drop(['ID'],axis=1)\n",
        "dataSet = dataSet.drop(['DAYS_BIRTH'],axis=1)\n",
        "dataSet = dataSet.drop(['FLAG_MOBIL'],axis=1)\n",
        "dataSet = dataSet.drop(['FLAG_WORK_PHONE'],axis=1)\n",
        "dataSet = dataSet.drop(['FLAG_PHONE'],axis=1)\n",
        "dataSet = dataSet.drop(['FLAG_EMAIL'],axis=1)"
      ],
      "execution_count": null,
      "outputs": []
    },
    {
      "cell_type": "code",
      "metadata": {
        "id": "p8yVKh2_wqSD",
        "colab_type": "code",
        "colab": {
          "base_uri": "https://localhost:8080/",
          "height": 666
        },
        "outputId": "76e1bb88-bd87-43f9-97db-76141c325e8d"
      },
      "source": [
        "# Información dataSet despues de eliminar atributos \n",
        "dataSet.info()\n",
        "dataSet.head(n=5)"
      ],
      "execution_count": 82,
      "outputs": [
        {
          "output_type": "stream",
          "text": [
            "<class 'pandas.core.frame.DataFrame'>\n",
            "Int64Index: 25134 entries, 0 to 25133\n",
            "Data columns (total 14 columns):\n",
            " #   Column               Non-Null Count  Dtype  \n",
            "---  ------               --------------  -----  \n",
            " 0   CODE_GENDER          25134 non-null  object \n",
            " 1   FLAG_OWN_CAR         25134 non-null  object \n",
            " 2   FLAG_OWN_REALTY      25134 non-null  object \n",
            " 3   CNT_CHILDREN         25134 non-null  int64  \n",
            " 4   AMT_INCOME_TOTAL     25134 non-null  float64\n",
            " 5   NAME_INCOME_TYPE     25134 non-null  object \n",
            " 6   NAME_EDUCATION_TYPE  25134 non-null  object \n",
            " 7   NAME_FAMILY_STATUS   25134 non-null  object \n",
            " 8   NAME_HOUSING_TYPE    25134 non-null  object \n",
            " 9   DAYS_EMPLOYED        25134 non-null  int64  \n",
            " 10  OCCUPATION_TYPE      25134 non-null  object \n",
            " 11  CNT_FAM_MEMBERS      25134 non-null  float64\n",
            " 12  STATUS               25134 non-null  object \n",
            " 13  goodClient           25134 non-null  bool   \n",
            "dtypes: bool(1), float64(2), int64(2), object(9)\n",
            "memory usage: 2.7+ MB\n"
          ],
          "name": "stdout"
        },
        {
          "output_type": "execute_result",
          "data": {
            "text/html": [
              "<div>\n",
              "<style scoped>\n",
              "    .dataframe tbody tr th:only-of-type {\n",
              "        vertical-align: middle;\n",
              "    }\n",
              "\n",
              "    .dataframe tbody tr th {\n",
              "        vertical-align: top;\n",
              "    }\n",
              "\n",
              "    .dataframe thead th {\n",
              "        text-align: right;\n",
              "    }\n",
              "</style>\n",
              "<table border=\"1\" class=\"dataframe\">\n",
              "  <thead>\n",
              "    <tr style=\"text-align: right;\">\n",
              "      <th></th>\n",
              "      <th>CODE_GENDER</th>\n",
              "      <th>FLAG_OWN_CAR</th>\n",
              "      <th>FLAG_OWN_REALTY</th>\n",
              "      <th>CNT_CHILDREN</th>\n",
              "      <th>AMT_INCOME_TOTAL</th>\n",
              "      <th>NAME_INCOME_TYPE</th>\n",
              "      <th>NAME_EDUCATION_TYPE</th>\n",
              "      <th>NAME_FAMILY_STATUS</th>\n",
              "      <th>NAME_HOUSING_TYPE</th>\n",
              "      <th>DAYS_EMPLOYED</th>\n",
              "      <th>OCCUPATION_TYPE</th>\n",
              "      <th>CNT_FAM_MEMBERS</th>\n",
              "      <th>STATUS</th>\n",
              "      <th>goodClient</th>\n",
              "    </tr>\n",
              "  </thead>\n",
              "  <tbody>\n",
              "    <tr>\n",
              "      <th>0</th>\n",
              "      <td>M</td>\n",
              "      <td>Y</td>\n",
              "      <td>Y</td>\n",
              "      <td>0</td>\n",
              "      <td>112500.0</td>\n",
              "      <td>Working</td>\n",
              "      <td>Secondary / secondary special</td>\n",
              "      <td>Married</td>\n",
              "      <td>House / apartment</td>\n",
              "      <td>-1134</td>\n",
              "      <td>Security staff</td>\n",
              "      <td>2.0</td>\n",
              "      <td>CCCCCCCX00X0X0XXXXXX0XXX0XXX0X</td>\n",
              "      <td>True</td>\n",
              "    </tr>\n",
              "    <tr>\n",
              "      <th>1</th>\n",
              "      <td>F</td>\n",
              "      <td>N</td>\n",
              "      <td>Y</td>\n",
              "      <td>0</td>\n",
              "      <td>270000.0</td>\n",
              "      <td>Commercial associate</td>\n",
              "      <td>Secondary / secondary special</td>\n",
              "      <td>Single / not married</td>\n",
              "      <td>House / apartment</td>\n",
              "      <td>-3051</td>\n",
              "      <td>Sales staff</td>\n",
              "      <td>1.0</td>\n",
              "      <td>0X0XX</td>\n",
              "      <td>True</td>\n",
              "    </tr>\n",
              "    <tr>\n",
              "      <th>2</th>\n",
              "      <td>F</td>\n",
              "      <td>N</td>\n",
              "      <td>Y</td>\n",
              "      <td>0</td>\n",
              "      <td>270000.0</td>\n",
              "      <td>Commercial associate</td>\n",
              "      <td>Secondary / secondary special</td>\n",
              "      <td>Single / not married</td>\n",
              "      <td>House / apartment</td>\n",
              "      <td>-3051</td>\n",
              "      <td>Sales staff</td>\n",
              "      <td>1.0</td>\n",
              "      <td>XXXXX</td>\n",
              "      <td>True</td>\n",
              "    </tr>\n",
              "    <tr>\n",
              "      <th>3</th>\n",
              "      <td>F</td>\n",
              "      <td>N</td>\n",
              "      <td>Y</td>\n",
              "      <td>0</td>\n",
              "      <td>270000.0</td>\n",
              "      <td>Commercial associate</td>\n",
              "      <td>Secondary / secondary special</td>\n",
              "      <td>Single / not married</td>\n",
              "      <td>House / apartment</td>\n",
              "      <td>-3051</td>\n",
              "      <td>Sales staff</td>\n",
              "      <td>1.0</td>\n",
              "      <td>CCCCCCCCCCCCCCCX0X0X000X0XX</td>\n",
              "      <td>True</td>\n",
              "    </tr>\n",
              "    <tr>\n",
              "      <th>4</th>\n",
              "      <td>F</td>\n",
              "      <td>N</td>\n",
              "      <td>Y</td>\n",
              "      <td>0</td>\n",
              "      <td>270000.0</td>\n",
              "      <td>Commercial associate</td>\n",
              "      <td>Secondary / secondary special</td>\n",
              "      <td>Single / not married</td>\n",
              "      <td>House / apartment</td>\n",
              "      <td>-3051</td>\n",
              "      <td>Sales staff</td>\n",
              "      <td>1.0</td>\n",
              "      <td>CCCCCCCCCCCCCCCCCCCCCCCCCCCX0X0X000X0XX</td>\n",
              "      <td>True</td>\n",
              "    </tr>\n",
              "  </tbody>\n",
              "</table>\n",
              "</div>"
            ],
            "text/plain": [
              "  CODE_GENDER FLAG_OWN_CAR  ...                                   STATUS  goodClient\n",
              "0           M            Y  ...           CCCCCCCX00X0X0XXXXXX0XXX0XXX0X        True\n",
              "1           F            N  ...                                    0X0XX        True\n",
              "2           F            N  ...                                    XXXXX        True\n",
              "3           F            N  ...              CCCCCCCCCCCCCCCX0X0X000X0XX        True\n",
              "4           F            N  ...  CCCCCCCCCCCCCCCCCCCCCCCCCCCX0X0X000X0XX        True\n",
              "\n",
              "[5 rows x 14 columns]"
            ]
          },
          "metadata": {
            "tags": []
          },
          "execution_count": 82
        }
      ]
    },
    {
      "cell_type": "markdown",
      "metadata": {
        "id": "dj_oWXqwy9FP",
        "colab_type": "text"
      },
      "source": [
        "### Cambiar atributos de *`Cualitativos Nominales`* A *`Cuantitativos Discretos`*"
      ]
    },
    {
      "cell_type": "code",
      "metadata": {
        "id": "cZ7fSzTmy8KZ",
        "colab_type": "code",
        "colab": {}
      },
      "source": [
        "# Cambio tipo de variables de Object a string\n",
        "dataSet.CODE_GENDER = dataSet.CODE_GENDER.astype(str)\n",
        "dataSet.FLAG_OWN_CAR = dataSet.FLAG_OWN_CAR.astype(str)\n",
        "dataSet.FLAG_OWN_REALTY = dataSet.FLAG_OWN_REALTY.astype(str)"
      ],
      "execution_count": 86,
      "outputs": []
    },
    {
      "cell_type": "code",
      "metadata": {
        "id": "14wy0m6P11uI",
        "colab_type": "code",
        "colab": {}
      },
      "source": [
        "# Cambia valores de CODE_GENDER\n",
        "# M = 0\n",
        "# F = 1\n",
        "dataSet.CODE_GENDER = dataSet.CODE_GENDER.replace({'M':0,'F':1})\n",
        "dataSet.head(n=3)"
      ],
      "execution_count": null,
      "outputs": []
    },
    {
      "cell_type": "code",
      "metadata": {
        "id": "x7uJxf0I2YrY",
        "colab_type": "code",
        "colab": {}
      },
      "source": [
        "# Cambia valores de FLAG_OWN_CAR\n",
        "# N = 0\n",
        "# Y = 1\n",
        "dataSet.FLAG_OWN_CAR = dataSet.FLAG_OWN_CAR.replace({'N':0,'Y':1})\n",
        "dataSet.head(n=3)"
      ],
      "execution_count": null,
      "outputs": []
    },
    {
      "cell_type": "code",
      "metadata": {
        "id": "CiNYPXAl2hl7",
        "colab_type": "code",
        "colab": {}
      },
      "source": [
        "# Cambia valores de FLAG_OWN_REALTY\n",
        "# N = 0\n",
        "# Y = 1\n",
        "dataSet.FLAG_OWN_REALTY = dataSet.FLAG_OWN_REALTY.replace({'N':0,'Y':1})\n",
        "dataSet.head(n=3)"
      ],
      "execution_count": null,
      "outputs": []
    },
    {
      "cell_type": "code",
      "metadata": {
        "id": "3ShkiFTZ3pGj",
        "colab_type": "code",
        "colab": {}
      },
      "source": [
        "# Información dataSet \n",
        "dataSet.info()\n",
        "dataSet.head(n=5)"
      ],
      "execution_count": null,
      "outputs": []
    },
    {
      "cell_type": "code",
      "metadata": {
        "id": "GDwkAiFr22L4",
        "colab_type": "code",
        "colab": {}
      },
      "source": [
        "# Valores de la clase NAME_INCOME_TYPE\n",
        "dataSet.NAME_INCOME_TYPE.value_counts()\n",
        "\"\"\"\n",
        "Working                 0\n",
        "Commercial associate    1\n",
        "State servant           2\n",
        "Pensioner               3\n",
        "Student                 4\n",
        "\"\"\"\n",
        "dictionary_replacement = {'Working':0,\n",
        "                          'Commercial associate':1,\n",
        "                          'State servant':2,\n",
        "                          'Pensioner':3,\n",
        "                          'Student':4}\n",
        "dataSet.NAME_INCOME_TYPE = dataSet.NAME_INCOME_TYPE.map(dictionary_replacement)\n",
        "dataSet.head(n=5)"
      ],
      "execution_count": null,
      "outputs": []
    },
    {
      "cell_type": "code",
      "metadata": {
        "id": "DqVqywcZ4B3j",
        "colab_type": "code",
        "colab": {}
      },
      "source": [
        "# Valores de la clase NAME_EDUCATION_TYPE\n",
        "dataSet.NAME_EDUCATION_TYPE.value_counts()\n",
        "\"\"\"\n",
        "Secondary / secondary special    0\n",
        "Higher education                 1\n",
        "Incomplete higher                2\n",
        "Lower secondary                  3\n",
        "Academic degree                  4\n",
        "\"\"\"\n",
        "dictionary_replacement = {'Secondary / secondary special':0,\n",
        "                          'Higher education':1,\n",
        "                          'Incomplete higher':2,\n",
        "                          'Lower secondary':3,\n",
        "                          'Academic degree':4}\n",
        "dataSet.NAME_EDUCATION_TYPE = dataSet.NAME_EDUCATION_TYPE.map(dictionary_replacement)\n",
        "dataSet.head(n=5)"
      ],
      "execution_count": null,
      "outputs": []
    },
    {
      "cell_type": "code",
      "metadata": {
        "id": "dPzsky0C4Dcu",
        "colab_type": "code",
        "colab": {}
      },
      "source": [
        "# Valores de la clase NAME_FAMILY_STATUS\n",
        "dataSet.NAME_FAMILY_STATUS.value_counts()\n",
        "\"\"\"\n",
        "Married                 0\n",
        "Single / not married    1\n",
        "Civil marriage          2\n",
        "Separated               3\n",
        "Widow                   4\n",
        "\"\"\"\n",
        "dictionary_replacement = {'Married':0,\n",
        "                          'Single / not married':1,\n",
        "                          'Civil marriage':2,\n",
        "                          'Separated':3,\n",
        "                          'Widow':4}\n",
        "dataSet.NAME_FAMILY_STATUS = dataSet.NAME_FAMILY_STATUS.map(dictionary_replacement)\n",
        "dataSet.head(n=5)"
      ],
      "execution_count": null,
      "outputs": []
    },
    {
      "cell_type": "code",
      "metadata": {
        "id": "vnaufSEJ4Fgf",
        "colab_type": "code",
        "colab": {}
      },
      "source": [
        "# Valores de la clase NAME_HOUSING_TYPE\n",
        "dataSet.NAME_HOUSING_TYPE.value_counts()\n",
        "\"\"\"\n",
        "House / apartment      0\n",
        "With parents           1\n",
        "Municipal apartment    2\n",
        "Rented apartment       3\n",
        "Office apartment       4\n",
        "Co-op apartment        5\n",
        "\"\"\"\n",
        "dictionary_replacement = {'House / apartment':0,\n",
        "                          'With parents':1,\n",
        "                          'Municipal apartment':2,\n",
        "                          'Rented apartment':3,\n",
        "                          'Office apartment':4,\n",
        "                          'Co-op apartment':5}\n",
        "dataSet.NAME_HOUSING_TYPE = dataSet.NAME_HOUSING_TYPE.map(dictionary_replacement)\n",
        "dataSet.head(n=5)\n"
      ],
      "execution_count": null,
      "outputs": []
    },
    {
      "cell_type": "code",
      "metadata": {
        "id": "wY8_wylU4GJv",
        "colab_type": "code",
        "colab": {}
      },
      "source": [
        "# Valores de la clase OCCUPATION_TYPE\n",
        "dataSet.OCCUPATION_TYPE.value_counts()\n",
        "\"\"\"\n",
        "Laborers                 0\n",
        "Core staff               1\n",
        "Sales staff              2\n",
        "Managers                 3\n",
        "Drivers                  4\n",
        "High skill tech staff    5\n",
        "Accountants              6\n",
        "Medicine staff           7\n",
        "Cooking staff            8\n",
        "Security staff           9\n",
        "Cleaning staff           10\n",
        "Private service staff    11\n",
        "Low-skill Laborers       12\n",
        "Waiters/barmen staff     13\n",
        "Secretaries              14\n",
        "HR staff                 15\n",
        "Realty agents            16\n",
        "IT staff                 17\n",
        "\"\"\"\n",
        "dictionary_replacement = {'Laborers':0,\n",
        "                          'Core staff':1,\n",
        "                          'Sales staff':2,\n",
        "                          'Managers':3,\n",
        "                          'Drivers':4,\n",
        "                          'High skill tech staff':5,\n",
        "                          'Accountants':6,\n",
        "                          'Medicine staff':7,\n",
        "                          'Cooking staff':8,\n",
        "                          'Security staff':9,\n",
        "                          'Cleaning staff':10,\n",
        "                          'Private service staff':11,\n",
        "                          'Low-skill Laborers':12,\n",
        "                          'Waiters/barmen staff':13,\n",
        "                          'Secretaries':14,\n",
        "                          'HR staff':15,\n",
        "                          'Realty agents':16,\n",
        "                          'IT staff':17}\n",
        "dataSet.OCCUPATION_TYPE = dataSet.OCCUPATION_TYPE.map(dictionary_replacement)\n",
        "dataSet.head(n=5)"
      ],
      "execution_count": null,
      "outputs": []
    },
    {
      "cell_type": "markdown",
      "metadata": {
        "id": "Gf28tbS9xCbW",
        "colab_type": "text"
      },
      "source": [
        "## ***Splitting Data***"
      ]
    },
    {
      "cell_type": "code",
      "metadata": {
        "id": "ePL7BIgRxJ1R",
        "colab_type": "code",
        "colab": {}
      },
      "source": [
        "# Se separa el atributo objetivo(target) en \"y\" y los demas atributos en \"X\"\n",
        "X = dataSet.drop(['goodClient','STATUS'],axis=1)\n",
        "y = dataSet['goodClient']"
      ],
      "execution_count": 112,
      "outputs": []
    },
    {
      "cell_type": "code",
      "metadata": {
        "id": "8BEEP8hzxT8_",
        "colab_type": "code",
        "colab": {}
      },
      "source": [
        "# Splitting Data\n",
        "X_train, X_test, y_train, y_test = train_test_split(X,y,test_size = 0.3, random_state = 123)"
      ],
      "execution_count": 113,
      "outputs": []
    },
    {
      "cell_type": "markdown",
      "metadata": {
        "id": "O_JFxVv0yMTO",
        "colab_type": "text"
      },
      "source": [
        "# **Algoritmos de Clasificación**\n",
        "\n",
        "---\n",
        "\n"
      ]
    },
    {
      "cell_type": "markdown",
      "metadata": {
        "id": "eu4GCsnAyRbw",
        "colab_type": "text"
      },
      "source": [
        "# **Árbol de decisión**"
      ]
    },
    {
      "cell_type": "code",
      "metadata": {
        "id": "OhnhY1AwyaCf",
        "colab_type": "code",
        "colab": {}
      },
      "source": [
        "#clf = DecisionTreeClassifier(criterion=\"entropy\")\n",
        "clf = DecisionTreeClassifier(criterion=\"gini\")\n",
        "# Entrenar Decision Tree Classifer\n",
        "clf = clf.fit(X_train,y_train)\n",
        "\n",
        "# Predecir la respuesta para el conjunto de datos de prueba\n",
        "y_pred = clf.predict(X_test)"
      ],
      "execution_count": 114,
      "outputs": []
    },
    {
      "cell_type": "code",
      "metadata": {
        "id": "xkax81jk8wMk",
        "colab_type": "code",
        "colab": {
          "base_uri": "https://localhost:8080/",
          "height": 187
        },
        "outputId": "d4cac3b6-2276-4ebb-ead1-6a2047f6effe"
      },
      "source": [
        "# Resultados\n",
        "\n",
        "print(\"Numero de datos en test:\",X_test.shape[0])\n",
        "print(\"Numero de aciertos:\",metrics.accuracy_score(y_test,y_pred,normalize=False))\n",
        "print(\"Numero de desaciertos:\",(y_test != y_pred).sum())\n",
        "print(\"Exactitud(Accuracy):\",metrics.accuracy_score(y_test,y_pred))\n",
        "\n",
        "# Matriz de Confución\n",
        "print(\"\\n\\t---Matriz de Confución Árbol de decisión---\")\n",
        "# print(metrics.confusion_matrix(y_test,y_pred))\n",
        "VN,FP,FN,VP = metrics.confusion_matrix(y_test,y_pred).ravel()\n",
        "print(\"VN \\t FP\")\n",
        "print(VN,\" \\t \",FP)\n",
        "print(\"FN \\t VP\")\n",
        "print(FN,\" \\t \",VP)"
      ],
      "execution_count": 115,
      "outputs": [
        {
          "output_type": "stream",
          "text": [
            "Numero de datos en test: 7541\n",
            "Numero de aciertos: 7465\n",
            "Numero de desaciertos: 76\n",
            "Exactitud(Accuracy): 0.9899217610396499\n",
            "\n",
            "\t---Matriz de Confución Árbol de decisión---\n",
            "VN \t FP\n",
            "21  \t  37\n",
            "FN \t VP\n",
            "39  \t  7444\n"
          ],
          "name": "stdout"
        }
      ]
    },
    {
      "cell_type": "markdown",
      "metadata": {
        "id": "EMPSVj_Y9Cyj",
        "colab_type": "text"
      },
      "source": [
        "# **Gaussian Naive Bayes**"
      ]
    },
    {
      "cell_type": "code",
      "metadata": {
        "id": "0wljVCA19F-W",
        "colab_type": "code",
        "colab": {}
      },
      "source": [
        "gnb = GaussianNB()\n",
        "y_pred = gnb.fit(X_train, y_train).predict(X_test)"
      ],
      "execution_count": 116,
      "outputs": []
    },
    {
      "cell_type": "code",
      "metadata": {
        "id": "bnC5zDjd9JUQ",
        "colab_type": "code",
        "colab": {}
      },
      "source": [
        "# Resultados\n",
        "\n",
        "#print(\"Numbero de observaciones mal etiquetadas del total de %d observaciones : %d\" %(X_test.shape[0], (y_test != y_pred).sum()))\n",
        "print(\"Numero de datos en test:\",X_test.shape[0])\n",
        "print(\"Numero de aciertos:\",metrics.accuracy_score(y_test,y_pred,normalize=False))\n",
        "print(\"Numero de desaciertos:\",(y_test != y_pred).sum())\n",
        "print(\"Exactitud(Accuracy):\",metrics.accuracy_score(y_test,y_pred))\n",
        "\n",
        "# Matriz de Confución\n",
        "print(\"\\n\\t---Matriz de Confución Naive Bayes---\")\n",
        "# print(metrics.confusion_matrix(y_test,y_pred))\n",
        "VN,FP,FN,VP = metrics.confusion_matrix(y_test,y_pred).ravel()\n",
        "print(\"VN \\t FP\")\n",
        "print(VN,\" \\t \",FP)\n",
        "print(\"FN \\t VP\")\n",
        "print(FN,\" \\t \",VP)"
      ],
      "execution_count": null,
      "outputs": []
    },
    {
      "cell_type": "markdown",
      "metadata": {
        "id": "T7uttjvJ9cC8",
        "colab_type": "text"
      },
      "source": [
        "# ***OneR***"
      ]
    },
    {
      "cell_type": "markdown",
      "metadata": {
        "id": "pa2Lh-Gl9qZ0",
        "colab_type": "text"
      },
      "source": [
        "## **Algoritmo**"
      ]
    },
    {
      "cell_type": "code",
      "metadata": {
        "id": "w4z7Y2X_9fLz",
        "colab_type": "code",
        "colab": {}
      },
      "source": [
        "n_samples, n_features = X.shape\n",
        "attribute_means = X.mean(axis=0)\n",
        "assert attribute_means.shape == (n_features,)\n",
        "X_d = np.array(X >= attribute_means, dtype='int')"
      ],
      "execution_count": 118,
      "outputs": []
    },
    {
      "cell_type": "code",
      "metadata": {
        "id": "Ja18vD8T9ihI",
        "colab_type": "code",
        "colab": {}
      },
      "source": [
        "from collections import defaultdict\n",
        "from operator import itemgetter\n",
        "\n",
        "def train(X, y_true, feature):  \n",
        "    # Check that variable is a valid number\n",
        "    n_samples, n_features = X.shape\n",
        "    assert 0 <= feature < n_features\n",
        "    # Get all of the unique values that this variable has\n",
        "    values = set(X[:,feature])\n",
        "    # Stores the predictors array that is returned\n",
        "    predictors = dict()\n",
        "    errors = []\n",
        "    for current_value in values:\n",
        "        most_frequent_class, error = train_feature_value(X, y_true, feature, current_value)\n",
        "        predictors[current_value] = most_frequent_class\n",
        "        errors.append(error)\n",
        "    # Compute the total error of using this feature to classify on\n",
        "    total_error = sum(errors)\n",
        "    return predictors, total_error\n",
        "# Compute what our predictors say each sample is based on its value\n",
        "#y_predicted = np.array([predictors[sample[feature]] for sample in X])\n",
        "def train_feature_value(X, y_true, feature, value):\n",
        "    # The four input parameters are data set, category array, selected feature index value and feature value\n",
        "    # Create a simple dictionary to count how frequency they give certain predictions\n",
        "    class_counts = defaultdict(int)\n",
        "    # Iterate through each sample and count the frequency of each class/value pair\n",
        "    for sample, y in zip(X, y_true):\n",
        "        if sample[feature] == value:\n",
        "            class_counts[y] += 1\n",
        "    # Now get the best one by sorting (highest first) and choosing the first item\n",
        "    sorted_class_counts = sorted(class_counts.items(), key=itemgetter(1), reverse=True)\n",
        "    most_frequent_class = sorted_class_counts[0][0]\n",
        "    # The error is the number of samples that do not classify as the most frequent class\n",
        "    # *and* have the feature value.\n",
        "    n_samples = X.shape[1]\n",
        "    error = sum([class_count for class_value, class_count in class_counts.items()\n",
        "                 if class_value != most_frequent_class])\n",
        "    return most_frequent_class, error"
      ],
      "execution_count": 119,
      "outputs": []
    },
    {
      "cell_type": "code",
      "metadata": {
        "id": "IYpQVQLC9jG8",
        "colab_type": "code",
        "colab": {}
      },
      "source": [
        "# Now, we split into a training and test set\n",
        "X_train, X_test, y_train, y_test = train_test_split(X_d, y, test_size = 0.3, random_state = 123)"
      ],
      "execution_count": 120,
      "outputs": []
    },
    {
      "cell_type": "code",
      "metadata": {
        "id": "zE3CLCP89mwr",
        "colab_type": "code",
        "colab": {}
      },
      "source": [
        "# Compute all of the predictors\n",
        "all_predictors = {variable: train(X_train, y_train, variable) for variable in range(X_train.shape[1])}\n",
        "errors = {variable: error for variable, (mapping, error) in all_predictors.items()}\n",
        "# Now choose the best and save that as \"model\"\n",
        "# Sort by error\n",
        "best_variable, best_error = sorted(errors.items(), key=itemgetter(1))[0]\n",
        "#print(\"The best model is based on variable {0} and has error {1:.2f}\".format(best_variable, best_error))\n",
        "\n",
        "# Choose the bset model\n",
        "model = {'variable': best_variable,\n",
        "         'predictor': all_predictors[best_variable][0]}\n",
        "\n",
        "def predict(X_test, model):\n",
        "    variable = model['variable']\n",
        "    predictor = model['predictor']\n",
        "    y_pred = np.array([predictor[int(sample[variable])] for sample in X_test])\n",
        "    return y_pred\n",
        "\n",
        "y_pred = predict(X_test, model)"
      ],
      "execution_count": 121,
      "outputs": []
    },
    {
      "cell_type": "markdown",
      "metadata": {
        "id": "xMSJi4bX99OM",
        "colab_type": "text"
      },
      "source": [
        "## **Ejecución**"
      ]
    },
    {
      "cell_type": "code",
      "metadata": {
        "id": "ZvWbgxEK97P7",
        "colab_type": "code",
        "colab": {}
      },
      "source": [
        "# Compute all of the predictors\n",
        "all_predictors = {variable: train(X_train, y_train, variable) for variable in range(X_train.shape[1])}\n",
        "errors = {variable: error for variable, (mapping, error) in all_predictors.items()}\n",
        "# Now choose the best and save that as \"model\"\n",
        "# Sort by error\n",
        "best_variable, best_error = sorted(errors.items(), key=itemgetter(1))[0]\n",
        "#print(\"The best model is based on variable {0} and has error {1:.2f}\".format(best_variable, best_error))\n",
        "\n",
        "# Choose the bset model\n",
        "model = {'variable': best_variable,\n",
        "         'predictor': all_predictors[best_variable][0]}\n",
        "\n",
        "def predict(X_test, model):\n",
        "    variable = model['variable']\n",
        "    predictor = model['predictor']\n",
        "    y_pred = np.array([predictor[int(sample[variable])] for sample in X_test])\n",
        "    return y_pred\n",
        "\n",
        "y_pred = predict(X_test, model)"
      ],
      "execution_count": 123,
      "outputs": []
    },
    {
      "cell_type": "code",
      "metadata": {
        "id": "BLi92zz4-G9Z",
        "colab_type": "code",
        "colab": {}
      },
      "source": [
        "# Resultados\n",
        "\n",
        "#print(\"Numbero de observaciones mal etiquetadas del total de %d observaciones : %d\" %(X_test.shape[0], (y_test != y_pred).sum()))\n",
        "print(\"Numero de datos en test:\",X_test.shape[0])\n",
        "print(\"Numero de aciertos:\",metrics.accuracy_score(y_test,y_pred,normalize=False))\n",
        "print(\"Numero de desaciertos:\",(y_test != y_pred).sum())\n",
        "print(\"Exactitud(Accuracy):\",metrics.accuracy_score(y_test,y_pred))\n",
        "print(\"\\n\\t---Matriz de Confución OneR---\")\n",
        "# print(metrics.confusion_matrix(y_test,y_pred))\n",
        "VN,FP,FN,VP = metrics.confusion_matrix(y_test,y_pred).ravel()\n",
        "print(\"\\nVP \\t FN\")\n",
        "print(VP,\" \\t \",FN)\n",
        "print(\"FP \\t VN\")\n",
        "print(FP,\" \\t \",VN)"
      ],
      "execution_count": null,
      "outputs": []
    }
  ]
}