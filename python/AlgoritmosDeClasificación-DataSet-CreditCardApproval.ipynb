{
  "nbformat": 4,
  "nbformat_minor": 0,
  "metadata": {
    "colab": {
      "name": "8-AlgoritmosDeClasificación-DataSet-CreditCardApproval.ipynb",
      "provenance": [],
      "collapsed_sections": []
    },
    "kernelspec": {
      "name": "python3",
      "display_name": "Python 3"
    }
  },
  "cells": [
    {
      "cell_type": "code",
      "metadata": {
        "id": "MJ3BwSITSxdc",
        "colab_type": "code",
        "colab": {}
      },
      "source": [
        "#from google.colab import drive\n",
        "#drive.mount('/content/drive')"
      ],
      "execution_count": null,
      "outputs": []
    },
    {
      "cell_type": "code",
      "metadata": {
        "id": "ydgHb8iH-C84",
        "colab_type": "code",
        "colab": {}
      },
      "source": [
        "# Importarcion librerias\n",
        "import numpy as np\n",
        "import pandas as pd\n",
        "import seaborn as sns\n",
        "import matplotlib.pyplot as plt\n",
        "\n",
        "from sklearn.model_selection import train_test_split\n",
        "from sklearn import metrics\n",
        "\n",
        "from sklearn.naive_bayes import GaussianNB\n",
        "\n",
        "from sklearn.tree import DecisionTreeClassifier"
      ],
      "execution_count": null,
      "outputs": []
    },
    {
      "cell_type": "markdown",
      "metadata": {
        "id": "pSfvHvTWqhDF",
        "colab_type": "text"
      },
      "source": [
        "## ***Preparar dataSet `application_record`***\n"
      ]
    },
    {
      "cell_type": "code",
      "metadata": {
        "id": "ccdYS9ij-FqG",
        "colab_type": "code",
        "colab": {}
      },
      "source": [
        "# Cargar dataSets Application_record & Credit_record\n",
        "application= pd.read_csv('/content/drive/My Drive/9° Semestre/Colab Notebooks-UPTC/DataSets/dataSets-CreditCardApproval/application_record.csv', sep=',')\n",
        "application.info()"
      ],
      "execution_count": null,
      "outputs": []
    },
    {
      "cell_type": "code",
      "metadata": {
        "id": "VxHwWLLd2dCq",
        "colab_type": "code",
        "colab": {}
      },
      "source": [
        "# Valores nulos en dataSet application\n",
        "\n",
        "print(\"Numero Filas y Columnas dataSet application = \",application.shape)\n",
        "print(\"Valores nulos en dataSet application: \\n\")\n",
        "print(application.isnull().sum())"
      ],
      "execution_count": null,
      "outputs": []
    },
    {
      "cell_type": "code",
      "metadata": {
        "id": "be_5M3I5UXqP",
        "colab_type": "code",
        "colab": {}
      },
      "source": [
        "# Ver valores en la NULOS(NaN) clase OCCUPATION_TYPE\n",
        "\n",
        "#print(application.OCCUPATION_TYPE.value_counts(dropna=False))\n",
        "print(\"\\nValores nulos en la columna OCCUPATION_TYPE = \",application.OCCUPATION_TYPE.isnull().sum())"
      ],
      "execution_count": null,
      "outputs": []
    },
    {
      "cell_type": "code",
      "metadata": {
        "id": "3lgDOIsjU8j8",
        "colab_type": "code",
        "colab": {}
      },
      "source": [
        "# Eliminar filas con valores nulos(NaN) en la Colummna OCCUPATION_TYPE\n",
        "\n",
        "print(\"Numero Filas y Columnas dataSet application= \",application.shape)\n",
        "print(\"----> Elimando filas con valor NaN en atributo OCCUPATION_TYPE...\")\n",
        "application.drop(application[application.OCCUPATION_TYPE.isnull()].index, inplace = True)\n",
        "print(\"Nuevo numero Filas y Columnas dataSet application= \",application.shape)\n"
      ],
      "execution_count": null,
      "outputs": []
    },
    {
      "cell_type": "markdown",
      "metadata": {
        "id": "RhkGCR54qTq7",
        "colab_type": "text"
      },
      "source": [
        "## ***Preparar dataSet `credit_record`***"
      ]
    },
    {
      "cell_type": "code",
      "metadata": {
        "id": "KkAeWOGVTJ3L",
        "colab_type": "code",
        "colab": {}
      },
      "source": [
        "credit = pd.read_csv('/content/drive/My Drive/9° Semestre/Colab Notebooks-UPTC/DataSets/dataSets-CreditCardApproval/credit_record.csv', sep=',')\n",
        "credit.info()"
      ],
      "execution_count": null,
      "outputs": []
    },
    {
      "cell_type": "code",
      "metadata": {
        "id": "UqosLJO12rZg",
        "colab_type": "code",
        "colab": {}
      },
      "source": [
        "print(\"Numero Filas y Columnas dataSet credit = \",credit.shape)\n",
        "# Valores nulos en dataSet application\n",
        "print(\"Valores nulos en dataSet credit:\\n\")\n",
        "print(credit.isnull().sum())"
      ],
      "execution_count": null,
      "outputs": []
    },
    {
      "cell_type": "code",
      "metadata": {
        "id": "hE0ekMmGrBPc",
        "colab_type": "code",
        "colab": {}
      },
      "source": [
        "# Eliminar atributo(columna) MONTHS_BALANCE\t\n",
        "print(\"----> Eliminando atributo MONTHS_BALANCE dataSet credit...\\n\")\n",
        "credit.drop(['MONTHS_BALANCE'],axis='columns',inplace=True)\n",
        "credit.info()"
      ],
      "execution_count": null,
      "outputs": []
    },
    {
      "cell_type": "code",
      "metadata": {
        "id": "C8Lbkx6W37gA",
        "colab_type": "code",
        "colab": {
          "base_uri": "https://localhost:8080/",
          "height": 102
        },
        "outputId": "12cb0e4c-fa8b-4875-8f3b-44987f94ccbc"
      },
      "source": [
        "print(\"Nuevo numero Filas y Columnas dataSet credit = \",credit.shape)\n",
        "# Valores nulos en dataSet application\n",
        "print(\"Valores nulos en dataSet credit:\\n\")\n",
        "print(credit.isnull().sum())"
      ],
      "execution_count": 81,
      "outputs": [
        {
          "output_type": "stream",
          "text": [
            "Nuevo numero Filas y Columnas dataSet credit =  (45985, 1)\n",
            "Valores nulos en dataSet credit:\n",
            "\n",
            "STATUS    0\n",
            "dtype: int64\n"
          ],
          "name": "stdout"
        }
      ]
    },
    {
      "cell_type": "code",
      "metadata": {
        "id": "srmp61lAsUTY",
        "colab_type": "code",
        "colab": {}
      },
      "source": [
        "# Concatenando valores de atributo(Columna) STATUS por ID\n",
        "credit = credit.groupby(credit['ID']).aggregate({'STATUS':'sum'})\n",
        "credit.head(n=10)"
      ],
      "execution_count": null,
      "outputs": []
    },
    {
      "cell_type": "markdown",
      "metadata": {
        "id": "eUWsAFEjzJQ-",
        "colab_type": "text"
      },
      "source": [
        "## ***Unir dataSets `application_record` y `credit_record`***"
      ]
    },
    {
      "cell_type": "code",
      "metadata": {
        "id": "8d8ghq925YB4",
        "colab_type": "code",
        "colab": {
          "base_uri": "https://localhost:8080/",
          "height": 51
        },
        "outputId": "4f61526d-a840-47e2-ddd1-adb26e3e8115"
      },
      "source": [
        "print(\"Numero Filas y Columnas dataSet application= \",application.shape)\n",
        "print(\"Numero Filas y Columnas dataSet credit = \",credit.shape)"
      ],
      "execution_count": null,
      "outputs": [
        {
          "output_type": "stream",
          "text": [
            "Numero Filas y Columnas dataSet application=  (304354, 18)\n",
            "Numero Filas y Columnas dataSet credit =  (45985, 1)\n"
          ],
          "name": "stdout"
        }
      ]
    },
    {
      "cell_type": "code",
      "metadata": {
        "id": "SJPVFeWqzHp7",
        "colab_type": "code",
        "colab": {}
      },
      "source": [
        "print(\"----> Uniendo dataSets application Y credit por Atributo(Columna) 'ID'...\\n\")\n",
        "dataSet = pd.merge(application, credit, on='ID')\n",
        "print(dataSet.info())"
      ],
      "execution_count": null,
      "outputs": []
    },
    {
      "cell_type": "code",
      "metadata": {
        "id": "bTZ__LHa1q3p",
        "colab_type": "code",
        "colab": {
          "base_uri": "https://localhost:8080/",
          "height": 408
        },
        "outputId": "5c571658-a7e2-4c53-fe59-b548e8a15356"
      },
      "source": [
        "# Validar que no existen valores nulos en el dataSet\n",
        "print(\"Numero Filas y Columnas dataSet = \",dataSet.shape)\n",
        "print(\"Valores nulos en dataSet: \\n\")\n",
        "print(dataSet.isnull().sum())"
      ],
      "execution_count": 84,
      "outputs": [
        {
          "output_type": "stream",
          "text": [
            "Numero Filas y Columnas dataSet =  (25134, 19)\n",
            "Valores nulos en dataSet: \n",
            "\n",
            "ID                     0\n",
            "CODE_GENDER            0\n",
            "FLAG_OWN_CAR           0\n",
            "FLAG_OWN_REALTY        0\n",
            "CNT_CHILDREN           0\n",
            "AMT_INCOME_TOTAL       0\n",
            "NAME_INCOME_TYPE       0\n",
            "NAME_EDUCATION_TYPE    0\n",
            "NAME_FAMILY_STATUS     0\n",
            "NAME_HOUSING_TYPE      0\n",
            "DAYS_BIRTH             0\n",
            "DAYS_EMPLOYED          0\n",
            "FLAG_MOBIL             0\n",
            "FLAG_WORK_PHONE        0\n",
            "FLAG_PHONE             0\n",
            "FLAG_EMAIL             0\n",
            "OCCUPATION_TYPE        0\n",
            "CNT_FAM_MEMBERS        0\n",
            "STATUS                 0\n",
            "dtype: int64\n"
          ],
          "name": "stdout"
        }
      ]
    },
    {
      "cell_type": "code",
      "metadata": {
        "id": "BKTguDAw13NR",
        "colab_type": "code",
        "colab": {}
      },
      "source": [
        ""
      ],
      "execution_count": null,
      "outputs": []
    }
  ]
}