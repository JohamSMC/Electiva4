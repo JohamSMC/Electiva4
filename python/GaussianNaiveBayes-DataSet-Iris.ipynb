{
  "nbformat": 4,
  "nbformat_minor": 0,
  "metadata": {
    "colab": {
      "name": "7-GaussianNaiveBayes - DataSet-Iris.ipynb",
      "provenance": [],
      "collapsed_sections": [],
      "authorship_tag": "ABX9TyM+siWSFSvRcvd64m5geo3Z"
    },
    "kernelspec": {
      "name": "python3",
      "display_name": "Python 3"
    }
  },
  "cells": [
    {
      "cell_type": "markdown",
      "metadata": {
        "id": "hK0lG-fr7AyC",
        "colab_type": "text"
      },
      "source": [
        "# Link de ayuda: https://scikit-learn.org/stable/modules/naive_bayes.html"
      ]
    },
    {
      "cell_type": "code",
      "metadata": {
        "id": "ny5CuU8r5G6a",
        "colab_type": "code",
        "colab": {}
      },
      "source": [
        "#Carga librerias\n",
        "from sklearn.datasets import load_iris\n",
        "from sklearn.model_selection import train_test_split\n",
        "from sklearn.naive_bayes import GaussianNB\n",
        "from sklearn import metrics\n",
        "\n",
        "import pandas as pd\n",
        "import numpy as np"
      ],
      "execution_count": null,
      "outputs": []
    },
    {
      "cell_type": "code",
      "metadata": {
        "id": "1CHGPesj7ACY",
        "colab_type": "code",
        "colab": {}
      },
      "source": [
        "# Cargar DataSet\n",
        "X, y = load_iris(return_X_y=True)"
      ],
      "execution_count": null,
      "outputs": []
    },
    {
      "cell_type": "code",
      "metadata": {
        "id": "25C5iPqRAGst",
        "colab_type": "code",
        "colab": {
          "base_uri": "https://localhost:8080/",
          "height": 51
        },
        "outputId": "f588c99b-202c-4907-958b-e17367f46d6e"
      },
      "source": [
        "print(\"Shape X: \",X.shape)\n",
        "print(\"Shape y: \",y.shape)"
      ],
      "execution_count": null,
      "outputs": [
        {
          "output_type": "stream",
          "text": [
            "Shape X:  (150, 4)\n",
            "Shape y:  (150,)\n"
          ],
          "name": "stdout"
        }
      ]
    },
    {
      "cell_type": "code",
      "metadata": {
        "id": "sz63-yEG8IAH",
        "colab_type": "code",
        "colab": {}
      },
      "source": [
        "# Split del DataSet\n",
        "X_train, X_test, y_train, y_test = train_test_split(X, y, test_size=0.8, random_state=0)\n"
      ],
      "execution_count": null,
      "outputs": []
    },
    {
      "cell_type": "code",
      "metadata": {
        "id": "uW_n87Rq8POn",
        "colab_type": "code",
        "colab": {}
      },
      "source": [
        "# Naive Bayes\n",
        "gnb = GaussianNB()\n",
        "y_pred = gnb.fit(X_train, y_train).predict(X_test)"
      ],
      "execution_count": null,
      "outputs": []
    },
    {
      "cell_type": "code",
      "metadata": {
        "id": "RRS8xyioHY84",
        "colab_type": "code",
        "colab": {
          "base_uri": "https://localhost:8080/",
          "height": 170
        },
        "outputId": "a55086f7-ec9f-4164-ead8-4ca1bcea9e0c"
      },
      "source": [
        "# Resultados\n",
        "\n",
        "#print(\"Numbero de observaciones mal etiquetadas del total de %d observaciones : %d\" %(X_test.shape[0], (y_test != y_pred).sum()))\n",
        "print(\"Numero de datos en test:\",X_test.shape[0])\n",
        "print(\"Numero de aciertos:\",metrics.accuracy_score(y_test,y_pred,normalize=False))\n",
        "print(\"Numero de desaciertos:\",(y_test != y_pred).sum())\n",
        "print(\"Exactitud(Accuracy):\",metrics.accuracy_score(y_test,y_pred))\n",
        "\n",
        "# Matriz de Confución\n",
        "print(\"\\n\\t---Matriz de Confución---\")\n",
        "print(metrics.confusion_matrix(y_test,y_pred))\n"
      ],
      "execution_count": null,
      "outputs": [
        {
          "output_type": "stream",
          "text": [
            "Numero de datos en test: 120\n",
            "Numero de aciertos: 112\n",
            "Numero de desaciertos: 8\n",
            "Exactitud(Accuracy): 0.9333333333333333\n",
            "\n",
            "\t---Matriz de Confución---\n",
            "[[40  0  0]\n",
            " [ 0 39  0]\n",
            " [ 0  8 33]]\n"
          ],
          "name": "stdout"
        }
      ]
    }
  ]
}